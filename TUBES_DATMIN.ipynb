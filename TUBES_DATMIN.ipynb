{
  "cells": [
    {
      "cell_type": "markdown",
      "metadata": {
        "id": "JNHX6ev9utTN"
      },
      "source": [
        "# **SEGMENTASI DAN KLASIFIKASI PELANGGAN**"
      ]
    },
    {
      "cell_type": "markdown",
      "metadata": {
        "id": "FXt3SyP8EWrY"
      },
      "source": [
        "Import Library"
      ]
    },
    {
      "cell_type": "code",
      "execution_count": 1,
      "metadata": {
        "id": "HSOfhtFMuqqJ"
      },
      "outputs": [
        {
          "ename": "ModuleNotFoundError",
          "evalue": "No module named 'matplotlib.backends.registry'",
          "output_type": "error",
          "traceback": [
            "\u001b[1;31m---------------------------------------------------------------------------\u001b[0m",
            "\u001b[1;31mModuleNotFoundError\u001b[0m                       Traceback (most recent call last)",
            "Cell \u001b[1;32mIn[1], line 6\u001b[0m\n\u001b[0;32m      3\u001b[0m \u001b[38;5;28;01mimport\u001b[39;00m \u001b[38;5;21;01mnumpy\u001b[39;00m \u001b[38;5;28;01mas\u001b[39;00m \u001b[38;5;21;01mnp\u001b[39;00m   \u001b[38;5;66;03m# Untuk operasi numerik\u001b[39;00m\n\u001b[0;32m      5\u001b[0m \u001b[38;5;66;03m# Library untuk visualisasi\u001b[39;00m\n\u001b[1;32m----> 6\u001b[0m \u001b[38;5;28;01mimport\u001b[39;00m \u001b[38;5;21;01mmatplotlib\u001b[39;00m\u001b[38;5;21;01m.\u001b[39;00m\u001b[38;5;21;01mpyplot\u001b[39;00m \u001b[38;5;28;01mas\u001b[39;00m \u001b[38;5;21;01mplt\u001b[39;00m \n\u001b[0;32m      7\u001b[0m \u001b[38;5;28;01mimport\u001b[39;00m \u001b[38;5;21;01mseaborn\u001b[39;00m \u001b[38;5;28;01mas\u001b[39;00m \u001b[38;5;21;01msns\u001b[39;00m  \n\u001b[0;32m      9\u001b[0m \u001b[38;5;66;03m# K-means\u001b[39;00m\n",
            "File \u001b[1;32mc:\\Users\\62812\\AppData\\Local\\Programs\\Python\\Python313\\Lib\\site-packages\\matplotlib\\__init__.py:159\u001b[0m\n\u001b[0;32m    155\u001b[0m \u001b[38;5;28;01mfrom\u001b[39;00m \u001b[38;5;21;01mpackaging\u001b[39;00m\u001b[38;5;21;01m.\u001b[39;00m\u001b[38;5;21;01mversion\u001b[39;00m \u001b[38;5;28;01mimport\u001b[39;00m parse \u001b[38;5;28;01mas\u001b[39;00m parse_version\n\u001b[0;32m    157\u001b[0m \u001b[38;5;66;03m# cbook must import matplotlib only within function\u001b[39;00m\n\u001b[0;32m    158\u001b[0m \u001b[38;5;66;03m# definitions, so it is safe to import from it here.\u001b[39;00m\n\u001b[1;32m--> 159\u001b[0m \u001b[38;5;28;01mfrom\u001b[39;00m \u001b[38;5;21;01m.\u001b[39;00m \u001b[38;5;28;01mimport\u001b[39;00m _api, _version, cbook, _docstring, rcsetup\n\u001b[0;32m    160\u001b[0m \u001b[38;5;28;01mfrom\u001b[39;00m \u001b[38;5;21;01mmatplotlib\u001b[39;00m\u001b[38;5;21;01m.\u001b[39;00m\u001b[38;5;21;01mcbook\u001b[39;00m \u001b[38;5;28;01mimport\u001b[39;00m sanitize_sequence\n\u001b[0;32m    161\u001b[0m \u001b[38;5;28;01mfrom\u001b[39;00m \u001b[38;5;21;01mmatplotlib\u001b[39;00m\u001b[38;5;21;01m.\u001b[39;00m\u001b[38;5;21;01m_api\u001b[39;00m \u001b[38;5;28;01mimport\u001b[39;00m MatplotlibDeprecationWarning\n",
            "File \u001b[1;32mc:\\Users\\62812\\AppData\\Local\\Programs\\Python\\Python313\\Lib\\site-packages\\matplotlib\\rcsetup.py:26\u001b[0m\n\u001b[0;32m     23\u001b[0m \u001b[38;5;28;01mimport\u001b[39;00m \u001b[38;5;21;01mnumpy\u001b[39;00m \u001b[38;5;28;01mas\u001b[39;00m \u001b[38;5;21;01mnp\u001b[39;00m\n\u001b[0;32m     25\u001b[0m \u001b[38;5;28;01mfrom\u001b[39;00m \u001b[38;5;21;01mmatplotlib\u001b[39;00m \u001b[38;5;28;01mimport\u001b[39;00m _api, cbook\n\u001b[1;32m---> 26\u001b[0m \u001b[38;5;28;01mfrom\u001b[39;00m \u001b[38;5;21;01mmatplotlib\u001b[39;00m\u001b[38;5;21;01m.\u001b[39;00m\u001b[38;5;21;01mbackends\u001b[39;00m \u001b[38;5;28;01mimport\u001b[39;00m BackendFilter, backend_registry\n\u001b[0;32m     27\u001b[0m \u001b[38;5;28;01mfrom\u001b[39;00m \u001b[38;5;21;01mmatplotlib\u001b[39;00m\u001b[38;5;21;01m.\u001b[39;00m\u001b[38;5;21;01mcbook\u001b[39;00m \u001b[38;5;28;01mimport\u001b[39;00m ls_mapper\n\u001b[0;32m     28\u001b[0m \u001b[38;5;28;01mfrom\u001b[39;00m \u001b[38;5;21;01mmatplotlib\u001b[39;00m\u001b[38;5;21;01m.\u001b[39;00m\u001b[38;5;21;01mcolors\u001b[39;00m \u001b[38;5;28;01mimport\u001b[39;00m Colormap, is_color_like\n",
            "File \u001b[1;32mc:\\Users\\62812\\AppData\\Local\\Programs\\Python\\Python313\\Lib\\site-packages\\matplotlib\\backends\\__init__.py:1\u001b[0m\n\u001b[1;32m----> 1\u001b[0m \u001b[38;5;28;01mfrom\u001b[39;00m \u001b[38;5;21;01m.\u001b[39;00m\u001b[38;5;21;01mregistry\u001b[39;00m \u001b[38;5;28;01mimport\u001b[39;00m BackendFilter, backend_registry  \u001b[38;5;66;03m# noqa: F401\u001b[39;00m\n\u001b[0;32m      3\u001b[0m \u001b[38;5;66;03m# NOTE: plt.switch_backend() (called at import time) will add a \"backend\"\u001b[39;00m\n\u001b[0;32m      4\u001b[0m \u001b[38;5;66;03m# attribute here for backcompat.\u001b[39;00m\n\u001b[0;32m      5\u001b[0m _QT_FORCE_QT5_BINDING \u001b[38;5;241m=\u001b[39m \u001b[38;5;28;01mFalse\u001b[39;00m\n",
            "\u001b[1;31mModuleNotFoundError\u001b[0m: No module named 'matplotlib.backends.registry'"
          ]
        }
      ],
      "source": [
        "# Library dasar untuk manipulasi data\n",
        "import pandas as pd  # Untuk manipulasi data dan analisis\n",
        "import numpy as np   # Untuk operasi numerik\n",
        "\n",
        "# Library untuk visualisasi\n",
        "import matplotlib.pyplot as plt \n",
        "import seaborn as sns  \n",
        "\n",
        "# K-means\n",
        "from sklearn.cluster import KMeans\n",
        "import pandas as pd\n",
        "import numpy as np\n",
        "from sklearn.preprocessing import StandardScaler\n",
        "from sklearn.cluster import KMeans\n",
        "from sklearn.decomposition import PCA\n",
        "import matplotlib.pyplot as plt\n",
        "from sklearn.metrics import silhouette_score\n",
        "\n"
      ]
    },
    {
      "cell_type": "markdown",
      "metadata": {
        "id": "m5N97-pou9ok"
      },
      "source": [
        "## **Data Exploration**"
      ]
    },
    {
      "cell_type": "markdown",
      "metadata": {
        "id": "7cN4xiZoEahv"
      },
      "source": [
        "Read data"
      ]
    },
    {
      "cell_type": "code",
      "execution_count": 2,
      "metadata": {
        "colab": {
          "base_uri": "https://localhost:8080/",
          "height": 206
        },
        "id": "J9v8lgtVwCFS",
        "outputId": "95dde282-3d64-41d1-ab82-a90cbc68e442"
      },
      "outputs": [
        {
          "data": {
            "text/html": [
              "<div>\n",
              "<style scoped>\n",
              "    .dataframe tbody tr th:only-of-type {\n",
              "        vertical-align: middle;\n",
              "    }\n",
              "\n",
              "    .dataframe tbody tr th {\n",
              "        vertical-align: top;\n",
              "    }\n",
              "\n",
              "    .dataframe thead th {\n",
              "        text-align: right;\n",
              "    }\n",
              "</style>\n",
              "<table border=\"1\" class=\"dataframe\">\n",
              "  <thead>\n",
              "    <tr style=\"text-align: right;\">\n",
              "      <th></th>\n",
              "      <th>InvoiceNo</th>\n",
              "      <th>StockCode</th>\n",
              "      <th>Description</th>\n",
              "      <th>Quantity</th>\n",
              "      <th>InvoiceDate</th>\n",
              "      <th>UnitPrice</th>\n",
              "      <th>CustomerID</th>\n",
              "      <th>Country</th>\n",
              "    </tr>\n",
              "  </thead>\n",
              "  <tbody>\n",
              "    <tr>\n",
              "      <th>0</th>\n",
              "      <td>536370</td>\n",
              "      <td>22728</td>\n",
              "      <td>ALARM CLOCK BAKELIKE PINK</td>\n",
              "      <td>24</td>\n",
              "      <td>12/1/10 8:45</td>\n",
              "      <td>3.75</td>\n",
              "      <td>12583.0</td>\n",
              "      <td>France</td>\n",
              "    </tr>\n",
              "    <tr>\n",
              "      <th>1</th>\n",
              "      <td>536370</td>\n",
              "      <td>22727</td>\n",
              "      <td>ALARM CLOCK BAKELIKE RED</td>\n",
              "      <td>24</td>\n",
              "      <td>12/1/10 8:45</td>\n",
              "      <td>3.75</td>\n",
              "      <td>12583.0</td>\n",
              "      <td>France</td>\n",
              "    </tr>\n",
              "    <tr>\n",
              "      <th>2</th>\n",
              "      <td>536370</td>\n",
              "      <td>22726</td>\n",
              "      <td>ALARM CLOCK BAKELIKE GREEN</td>\n",
              "      <td>12</td>\n",
              "      <td>12/1/10 8:45</td>\n",
              "      <td>3.75</td>\n",
              "      <td>12583.0</td>\n",
              "      <td>France</td>\n",
              "    </tr>\n",
              "    <tr>\n",
              "      <th>3</th>\n",
              "      <td>536370</td>\n",
              "      <td>21724</td>\n",
              "      <td>PANDA AND BUNNIES STICKER SHEET</td>\n",
              "      <td>12</td>\n",
              "      <td>12/1/10 8:45</td>\n",
              "      <td>0.85</td>\n",
              "      <td>12583.0</td>\n",
              "      <td>France</td>\n",
              "    </tr>\n",
              "    <tr>\n",
              "      <th>4</th>\n",
              "      <td>536370</td>\n",
              "      <td>21883</td>\n",
              "      <td>STARS GIFT TAPE</td>\n",
              "      <td>24</td>\n",
              "      <td>12/1/10 8:45</td>\n",
              "      <td>0.65</td>\n",
              "      <td>12583.0</td>\n",
              "      <td>France</td>\n",
              "    </tr>\n",
              "  </tbody>\n",
              "</table>\n",
              "</div>"
            ],
            "text/plain": [
              "   InvoiceNo StockCode                      Description  Quantity  \\\n",
              "0     536370     22728        ALARM CLOCK BAKELIKE PINK        24   \n",
              "1     536370     22727        ALARM CLOCK BAKELIKE RED         24   \n",
              "2     536370     22726       ALARM CLOCK BAKELIKE GREEN        12   \n",
              "3     536370     21724  PANDA AND BUNNIES STICKER SHEET        12   \n",
              "4     536370     21883                 STARS GIFT TAPE         24   \n",
              "\n",
              "    InvoiceDate  UnitPrice  CustomerID Country  \n",
              "0  12/1/10 8:45       3.75     12583.0  France  \n",
              "1  12/1/10 8:45       3.75     12583.0  France  \n",
              "2  12/1/10 8:45       3.75     12583.0  France  \n",
              "3  12/1/10 8:45       0.85     12583.0  France  \n",
              "4  12/1/10 8:45       0.65     12583.0  France  "
            ]
          },
          "execution_count": 2,
          "metadata": {},
          "output_type": "execute_result"
        }
      ],
      "source": [
        "# Read data\n",
        "df = pd.read_csv('int_online_tx.csv')\n",
        "df.head()"
      ]
    },
    {
      "cell_type": "markdown",
      "metadata": {
        "id": "R9RqtZO2EeRk"
      },
      "source": [
        "Memahami Struktur Data"
      ]
    },
    {
      "cell_type": "code",
      "execution_count": 3,
      "metadata": {
        "colab": {
          "base_uri": "https://localhost:8080/"
        },
        "id": "6KHNk1ODwU8g",
        "outputId": "c5cb2f03-dc26-4df4-c4f3-82e4882fb651"
      },
      "outputs": [
        {
          "name": "stdout",
          "output_type": "stream",
          "text": [
            "Jumlah baris dan kolom: (35116, 8)\n",
            "\n",
            "Tipe data:\n",
            " InvoiceNo        int64\n",
            "StockCode       object\n",
            "Description     object\n",
            "Quantity         int64\n",
            "InvoiceDate     object\n",
            "UnitPrice      float64\n",
            "CustomerID     float64\n",
            "Country         object\n",
            "dtype: object\n"
          ]
        }
      ],
      "source": [
        "print(\"Jumlah baris dan kolom:\", df.shape)\n",
        "print(\"\\nTipe data:\\n\", df.dtypes)"
      ]
    },
    {
      "cell_type": "markdown",
      "metadata": {
        "id": "Q9pF0Tt_Ek0m"
      },
      "source": [
        "Statistik Deskriptif"
      ]
    },
    {
      "cell_type": "code",
      "execution_count": 4,
      "metadata": {
        "colab": {
          "base_uri": "https://localhost:8080/"
        },
        "id": "MBdBhAY5wlhW",
        "outputId": "2e240fd2-24e7-421d-de26-974eaa51404e"
      },
      "outputs": [
        {
          "name": "stdout",
          "output_type": "stream",
          "text": [
            "\n",
            "Statistik Deskriptif:\n",
            "\n",
            "           Quantity     UnitPrice\n",
            "count  35116.000000  35116.000000\n",
            "mean      14.624302      4.700512\n",
            "std       31.144229     51.807988\n",
            "min        1.000000      0.040000\n",
            "25%        5.000000      1.250000\n",
            "50%       10.000000      1.950000\n",
            "75%       12.000000      3.750000\n",
            "max     2040.000000   4161.060000\n"
          ]
        }
      ],
      "source": [
        "# Statistik deskriptif untuk kolom numerik\n",
        "print(\"\\nStatistik Deskriptif:\\n\")\n",
        "print(df[['Quantity', 'UnitPrice']].describe())"
      ]
    },
    {
      "cell_type": "markdown",
      "metadata": {
        "id": "9ngZgbbOI9-H"
      },
      "source": [
        "Memeriksa Nilai Unik"
      ]
    },
    {
      "cell_type": "code",
      "execution_count": 5,
      "metadata": {
        "colab": {
          "base_uri": "https://localhost:8080/",
          "height": 335
        },
        "id": "EpzT-jSjJAQw",
        "outputId": "a860544c-3755-4673-b357-ea5e78b60030"
      },
      "outputs": [
        {
          "data": {
            "text/plain": [
              "InvoiceNo      1591\n",
              "StockCode      2602\n",
              "Description    2669\n",
              "Quantity         85\n",
              "InvoiceDate    1577\n",
              "UnitPrice       176\n",
              "CustomerID      414\n",
              "Country          37\n",
              "dtype: int64"
            ]
          },
          "execution_count": 5,
          "metadata": {},
          "output_type": "execute_result"
        }
      ],
      "source": [
        "df.nunique()"
      ]
    },
    {
      "cell_type": "markdown",
      "metadata": {
        "id": "3wlW2Ge6E1Qv"
      },
      "source": [
        "Distribusi Data"
      ]
    },
    {
      "cell_type": "code",
      "execution_count": 6,
      "metadata": {
        "colab": {
          "base_uri": "https://localhost:8080/",
          "height": 867
        },
        "id": "-dLGNp8Nws6D",
        "outputId": "0a54acf2-4feb-4c0d-bdd7-35b236723d97"
      },
      "outputs": [
        {
          "data": {
            "text/plain": [
              "<Axes: xlabel='count', ylabel='Country'>"
            ]
          },
          "execution_count": 6,
          "metadata": {},
          "output_type": "execute_result"
        },
        {
          "data": {
            "image/png": "[encoded data removed]",
            "text/plain": [
              "<Figure size 600x900 with 1 Axes>"
            ]
          },
          "metadata": {},
          "output_type": "display_data"
        }
      ],
      "source": [
        "# Make figsize\n",
        "plt.figure(figsize=(6,9))\n",
        "\n",
        "# Bar plot by country\n",
        "sns.countplot(y='Country', data=df)"
      ]
    },
    {
      "cell_type": "markdown",
      "metadata": {
        "id": "QcGEV6V9Gesg"
      },
      "source": [
        "Analisis Korelasi"
      ]
    },
    {
      "cell_type": "code",
      "execution_count": 7,
      "metadata": {
        "colab": {
          "base_uri": "https://localhost:8080/",
          "height": 564
        },
        "id": "B6s2BQqSyXYW",
        "outputId": "a807e33f-d3fe-48a3-83cc-30f73f08bc6d"
      },
      "outputs": [
        {
          "data": {
            "image/png": "[encoded data removed]",
            "text/plain": [
              "<Figure size 800x600 with 1 Axes>"
            ]
          },
          "metadata": {},
          "output_type": "display_data"
        }
      ],
      "source": [
        "# Scatter plot hubungan Quantity vs UnitPrice\n",
        "plt.figure(figsize=(8, 6))\n",
        "sns.scatterplot(x='UnitPrice', y='Quantity', data=df, color='purple')\n",
        "plt.title(\"Hubungan Quantity vs UnitPrice\")\n",
        "plt.show()"
      ]
    },
    {
      "cell_type": "markdown",
      "metadata": {
        "id": "DqZUR8I3HNoi"
      },
      "source": [
        "## **Data Preparation**"
      ]
    },
    {
      "cell_type": "markdown",
      "metadata": {
        "id": "VcygCmmINWG0"
      },
      "source": [
        "**Data Cleaning**"
      ]
    },
    {
      "cell_type": "code",
      "execution_count": 8,
      "metadata": {},
      "outputs": [
        {
          "name": "stdout",
          "output_type": "stream",
          "text": [
            "Data Duplikat:  78\n"
          ]
        }
      ],
      "source": [
        "print(\"Data Duplikat: \", df.duplicated().sum())"
      ]
    },
    {
      "cell_type": "code",
      "execution_count": 9,
      "metadata": {},
      "outputs": [
        {
          "name": "stdout",
          "output_type": "stream",
          "text": [
            "Data Duplikat:  0\n"
          ]
        }
      ],
      "source": [
        "df_noDuplicate = df.drop_duplicates()\n",
        "\n",
        "print(\"Data Duplikat: \", df_noDuplicate.duplicated().sum())"
      ]
    },
    {
      "cell_type": "code",
      "execution_count": 10,
      "metadata": {
        "colab": {
          "base_uri": "https://localhost:8080/",
          "height": 335
        },
        "id": "yFXm4_hHHS4c",
        "outputId": "d884f0ce-e452-4ab8-bb4e-4fe6881fdd13"
      },
      "outputs": [
        {
          "data": {
            "text/plain": [
              "InvoiceNo         0\n",
              "StockCode         0\n",
              "Description       0\n",
              "Quantity          0\n",
              "InvoiceDate       0\n",
              "UnitPrice         0\n",
              "CustomerID     1404\n",
              "Country           0\n",
              "dtype: int64"
            ]
          },
          "execution_count": 10,
          "metadata": {},
          "output_type": "execute_result"
        }
      ],
      "source": [
        "df_noDuplicate.isnull().sum()"
      ]
    },
    {
      "cell_type": "markdown",
      "metadata": {
        "id": "5H-FzxTV2mVv"
      },
      "source": [
        "Drop Customer id yang null"
      ]
    },
    {
      "cell_type": "code",
      "execution_count": 11,
      "metadata": {
        "colab": {
          "base_uri": "https://localhost:8080/"
        },
        "id": "dctVrDBjNiBL",
        "outputId": "c7de4d4e-b5e3-4034-e308-d5dc25769567"
      },
      "outputs": [
        {
          "name": "stdout",
          "output_type": "stream",
          "text": [
            "Jumlah nilai null:\n",
            " InvoiceNo      0\n",
            "StockCode      0\n",
            "Description    0\n",
            "Quantity       0\n",
            "InvoiceDate    0\n",
            "UnitPrice      0\n",
            "CustomerID     0\n",
            "Country        0\n",
            "dtype: int64\n",
            "Jumlah baris dan kolom setelah drop: (33634, 8)\n"
          ]
        }
      ],
      "source": [
        "# Menghapus baris dengan nilai kosong\n",
        "df_noNull = df_noDuplicate.dropna(subset=['CustomerID'])\n",
        "\n",
        "# Menampilkan jumlah nilai kosong dan dimensi data setelah menghapus baris\n",
        "print(\"Jumlah nilai null:\\n\", df_noNull.isnull().sum())\n",
        "print(\"Jumlah baris dan kolom setelah drop:\", df_noNull.shape)"
      ]
    },
    {
      "cell_type": "markdown",
      "metadata": {
        "id": "BGx_-CWhrT8h"
      },
      "source": [
        "Hapus data outlier"
      ]
    },
    {
      "cell_type": "code",
      "execution_count": 12,
      "metadata": {
        "colab": {
          "base_uri": "https://localhost:8080/",
          "height": 545
        },
        "id": "JBe_4scZzm8N",
        "outputId": "3cfe5117-c3b8-4ad8-ed9c-16af098b8d63"
      },
      "outputs": [
        {
          "data": {
            "image/png": "[encoded data removed]",
            "text/plain": [
              "<Figure size 1000x600 with 1 Axes>"
            ]
          },
          "metadata": {},
          "output_type": "display_data"
        }
      ],
      "source": [
        "# Box plot untuk deteksi outlier\n",
        "plt.figure(figsize=(10, 6))\n",
        "sns.boxplot(data=df_noNull[['Quantity', 'UnitPrice']], palette='Set3')\n",
        "plt.title(\"Deteksi Outlier dengan Box Plot\")\n",
        "plt.show()"
      ]
    },
    {
      "cell_type": "code",
      "execution_count": 13,
      "metadata": {
        "colab": {
          "base_uri": "https://localhost:8080/"
        },
        "id": "nEWKm2j5q-SL",
        "outputId": "8737fd61-2f10-45a1-dd3f-2d3c548622f1"
      },
      "outputs": [
        {
          "name": "stdout",
          "output_type": "stream",
          "text": [
            "Jumlah data setelah pembersihan outliers: (10261, 8)\n"
          ]
        }
      ],
      "source": [
        "# Pisahkan kolom numerik dan non-numerik\n",
        "numerical_cols = df_noNull[['Quantity', 'UnitPrice']]  # Kolom numerik yang ingin dicek\n",
        "non_numerical_cols = df_noNull.drop(columns=numerical_cols.columns)  # Kolom non-numerik\n",
        "\n",
        "# Hitung Q1, Q3, dan IQR untuk kolom numerik\n",
        "Q1 = numerical_cols.quantile(0.25)\n",
        "Q3 = numerical_cols.quantile(0.75)\n",
        "IQR = Q3 - Q1\n",
        "\n",
        "# Filter baris tanpa outlier pada kolom numerik\n",
        "numerical_cleaned = numerical_cols[((numerical_cols < (Q1 - 1.5 * IQR)) |\n",
        "                                     (numerical_cols > (Q3 + 1.5 * IQR))).any(axis=1)]\n",
        "\n",
        "# Gabungkan kembali kolom non-numerik dengan kolom numerik yang sudah dibersihkan\n",
        "df_cleaned = numerical_cleaned.join(non_numerical_cols)\n",
        "\n",
        "# Hapus baris dengan nilai NaN (karena join bisa menghasilkan baris dengan NaN)\n",
        "df_cleaned = df_cleaned.dropna()\n",
        "\n",
        "# Tampilkan jumlah data setelah pembersihan\n",
        "print(\"Jumlah data setelah pembersihan outliers:\", df_cleaned.shape)"
      ]
    },
    {
      "cell_type": "markdown",
      "metadata": {
        "id": "77oVVIAh2tig"
      },
      "source": [
        "Ubah data type CustomerID dari float menjadi integer"
      ]
    },
    {
      "cell_type": "code",
      "execution_count": 14,
      "metadata": {
        "colab": {
          "base_uri": "https://localhost:8080/"
        },
        "id": "pd4OJ974UGoz",
        "outputId": "6cbd6f68-3f3e-4b60-a85a-c8de38decd0b"
      },
      "outputs": [
        {
          "name": "stdout",
          "output_type": "stream",
          "text": [
            "0    12583\n",
            "1    12583\n",
            "4    12583\n",
            "5    12583\n",
            "6    12583\n",
            "Name: CustomerID, dtype: int64\n"
          ]
        }
      ],
      "source": [
        "# Make a copy of the DataFrame to avoid modifying the original DataFrame\n",
        "df_cleaned = df_cleaned.copy()\n",
        "\n",
        "# Convert 'CustomerID' to integers\n",
        "df_cleaned['CustomerID'] = df_cleaned['CustomerID'].astype(int)\n",
        "\n",
        "# Verify the result\n",
        "print(df_cleaned.CustomerID.head())"
      ]
    },
    {
      "cell_type": "markdown",
      "metadata": {
        "id": "jWWbXPtK28VZ"
      },
      "source": [
        "**Transaction Level**"
      ]
    },
    {
      "cell_type": "markdown",
      "metadata": {
        "id": "AHIEZ1i8bWqW"
      },
      "source": [
        "Menambah fitur sales"
      ]
    },
    {
      "cell_type": "code",
      "execution_count": 15,
      "metadata": {
        "colab": {
          "base_uri": "https://localhost:8080/",
          "height": 206
        },
        "id": "EJAaG_GAsn_n",
        "outputId": "057ef6df-460a-42c8-8a42-44d34149e7f9"
      },
      "outputs": [
        {
          "data": {
            "text/html": [
              "<div>\n",
              "<style scoped>\n",
              "    .dataframe tbody tr th:only-of-type {\n",
              "        vertical-align: middle;\n",
              "    }\n",
              "\n",
              "    .dataframe tbody tr th {\n",
              "        vertical-align: top;\n",
              "    }\n",
              "\n",
              "    .dataframe thead th {\n",
              "        text-align: right;\n",
              "    }\n",
              "</style>\n",
              "<table border=\"1\" class=\"dataframe\">\n",
              "  <thead>\n",
              "    <tr style=\"text-align: right;\">\n",
              "      <th></th>\n",
              "      <th>Quantity</th>\n",
              "      <th>UnitPrice</th>\n",
              "      <th>InvoiceNo</th>\n",
              "      <th>StockCode</th>\n",
              "      <th>Description</th>\n",
              "      <th>InvoiceDate</th>\n",
              "      <th>CustomerID</th>\n",
              "      <th>Country</th>\n",
              "      <th>Sales</th>\n",
              "    </tr>\n",
              "  </thead>\n",
              "  <tbody>\n",
              "    <tr>\n",
              "      <th>0</th>\n",
              "      <td>24</td>\n",
              "      <td>3.75</td>\n",
              "      <td>536370</td>\n",
              "      <td>22728</td>\n",
              "      <td>ALARM CLOCK BAKELIKE PINK</td>\n",
              "      <td>12/1/10 8:45</td>\n",
              "      <td>12583</td>\n",
              "      <td>France</td>\n",
              "      <td>90.0</td>\n",
              "    </tr>\n",
              "    <tr>\n",
              "      <th>1</th>\n",
              "      <td>24</td>\n",
              "      <td>3.75</td>\n",
              "      <td>536370</td>\n",
              "      <td>22727</td>\n",
              "      <td>ALARM CLOCK BAKELIKE RED</td>\n",
              "      <td>12/1/10 8:45</td>\n",
              "      <td>12583</td>\n",
              "      <td>France</td>\n",
              "      <td>90.0</td>\n",
              "    </tr>\n",
              "    <tr>\n",
              "      <th>2</th>\n",
              "      <td>24</td>\n",
              "      <td>0.65</td>\n",
              "      <td>536370</td>\n",
              "      <td>21883</td>\n",
              "      <td>STARS GIFT TAPE</td>\n",
              "      <td>12/1/10 8:45</td>\n",
              "      <td>12583</td>\n",
              "      <td>France</td>\n",
              "      <td>15.6</td>\n",
              "    </tr>\n",
              "    <tr>\n",
              "      <th>3</th>\n",
              "      <td>48</td>\n",
              "      <td>0.85</td>\n",
              "      <td>536370</td>\n",
              "      <td>10002</td>\n",
              "      <td>INFLATABLE POLITICAL GLOBE</td>\n",
              "      <td>12/1/10 8:45</td>\n",
              "      <td>12583</td>\n",
              "      <td>France</td>\n",
              "      <td>40.8</td>\n",
              "    </tr>\n",
              "    <tr>\n",
              "      <th>4</th>\n",
              "      <td>24</td>\n",
              "      <td>1.25</td>\n",
              "      <td>536370</td>\n",
              "      <td>21791</td>\n",
              "      <td>VINTAGE HEADS AND TAILS CARD GAME</td>\n",
              "      <td>12/1/10 8:45</td>\n",
              "      <td>12583</td>\n",
              "      <td>France</td>\n",
              "      <td>30.0</td>\n",
              "    </tr>\n",
              "  </tbody>\n",
              "</table>\n",
              "</div>"
            ],
            "text/plain": [
              "   Quantity  UnitPrice  InvoiceNo StockCode  \\\n",
              "0        24       3.75     536370     22728   \n",
              "1        24       3.75     536370     22727   \n",
              "2        24       0.65     536370     21883   \n",
              "3        48       0.85     536370     10002   \n",
              "4        24       1.25     536370     21791   \n",
              "\n",
              "                          Description   InvoiceDate  CustomerID Country  Sales  \n",
              "0           ALARM CLOCK BAKELIKE PINK  12/1/10 8:45       12583  France   90.0  \n",
              "1           ALARM CLOCK BAKELIKE RED   12/1/10 8:45       12583  France   90.0  \n",
              "2                    STARS GIFT TAPE   12/1/10 8:45       12583  France   15.6  \n",
              "3         INFLATABLE POLITICAL GLOBE   12/1/10 8:45       12583  France   40.8  \n",
              "4  VINTAGE HEADS AND TAILS CARD GAME   12/1/10 8:45       12583  France   30.0  "
            ]
          },
          "execution_count": 15,
          "metadata": {},
          "output_type": "execute_result"
        }
      ],
      "source": [
        "# Create 'Sales' interaction feature\n",
        "df_cleaned['Sales'] = df_cleaned.Quantity * df_cleaned.UnitPrice\n",
        "\n",
        "# Reset indeks dan mulai dari 0\n",
        "df_cleaned = df_cleaned.reset_index(drop=True)\n",
        "\n",
        "# Tampilkan data untuk memverifikasi\n",
        "df_cleaned.head()"
      ]
    },
    {
      "cell_type": "code",
      "execution_count": 16,
      "metadata": {},
      "outputs": [],
      "source": [
        "# Save cleaned transaction-level data\n",
        "df_cleaned.to_csv('cleaned_transactions.csv', index=None)"
      ]
    },
    {
      "cell_type": "markdown",
      "metadata": {},
      "source": [
        "## **Data Transformation**"
      ]
    },
    {
      "cell_type": "markdown",
      "metadata": {
        "id": "qIxcURRDypbO"
      },
      "source": [
        "**Customer Level**"
      ]
    },
    {
      "cell_type": "markdown",
      "metadata": {
        "id": "B-j5sGvGVeSy"
      },
      "source": [
        "Mengonversi dataset transaksi (transaction-level) menjadi dataset berbasis pelanggan (customer-level) di mana satu baris merepresentasikan satu pelanggan.\n",
        "\n",
        "Fitur yang ingin direkayasa (engineered):\n",
        "\n",
        "*   total_transactions: Jumlah invoice unik per pelanggan.\n",
        "\n",
        "*   total_products: Jumlah total produk yang dibeli.\n",
        "\n",
        "*   total_unique_products: Jumlah produk unik yang dibeli.\n",
        "\n",
        "\n",
        "*   total_sales: Total penjualan per pelanggan.\n",
        "\n",
        "*   avg_product_value:"
      ]
    },
    {
      "cell_type": "markdown",
      "metadata": {
        "id": "P5kR4T_HctkP"
      },
      "source": [
        "**Agregasi Invoice Data:**"
      ]
    },
    {
      "cell_type": "code",
      "execution_count": 17,
      "metadata": {
        "colab": {
          "base_uri": "https://localhost:8080/",
          "height": 238
        },
        "id": "qj13FduCVQ88",
        "outputId": "d46ba245-961f-4774-cb3f-70f59e59128f"
      },
      "outputs": [
        {
          "data": {
            "text/html": [
              "<div>\n",
              "<style scoped>\n",
              "    .dataframe tbody tr th:only-of-type {\n",
              "        vertical-align: middle;\n",
              "    }\n",
              "\n",
              "    .dataframe tbody tr th {\n",
              "        vertical-align: top;\n",
              "    }\n",
              "\n",
              "    .dataframe thead th {\n",
              "        text-align: right;\n",
              "    }\n",
              "</style>\n",
              "<table border=\"1\" class=\"dataframe\">\n",
              "  <thead>\n",
              "    <tr style=\"text-align: right;\">\n",
              "      <th></th>\n",
              "      <th>total_transactions</th>\n",
              "    </tr>\n",
              "    <tr>\n",
              "      <th>CustomerID</th>\n",
              "      <th></th>\n",
              "    </tr>\n",
              "  </thead>\n",
              "  <tbody>\n",
              "    <tr>\n",
              "      <th>12347</th>\n",
              "      <td>7</td>\n",
              "    </tr>\n",
              "    <tr>\n",
              "      <th>12348</th>\n",
              "      <td>4</td>\n",
              "    </tr>\n",
              "    <tr>\n",
              "      <th>12349</th>\n",
              "      <td>1</td>\n",
              "    </tr>\n",
              "    <tr>\n",
              "      <th>12350</th>\n",
              "      <td>1</td>\n",
              "    </tr>\n",
              "    <tr>\n",
              "      <th>12352</th>\n",
              "      <td>7</td>\n",
              "    </tr>\n",
              "  </tbody>\n",
              "</table>\n",
              "</div>"
            ],
            "text/plain": [
              "            total_transactions\n",
              "CustomerID                    \n",
              "12347                        7\n",
              "12348                        4\n",
              "12349                        1\n",
              "12350                        1\n",
              "12352                        7"
            ]
          },
          "execution_count": 17,
          "metadata": {},
          "output_type": "execute_result"
        }
      ],
      "source": [
        "# Aggregate invoice data using a dictionary for renaming\n",
        "invoice_data = df_cleaned.groupby('CustomerID').agg(total_transactions=('InvoiceNo', 'nunique'))\n",
        "\n",
        "# Display invoice data for the first 5 customers\n",
        "invoice_data.head()"
      ]
    },
    {
      "cell_type": "markdown",
      "metadata": {
        "id": "mhYJE0XHcwPB"
      },
      "source": [
        "**Agregasi Data Produk:**"
      ]
    },
    {
      "cell_type": "code",
      "execution_count": 18,
      "metadata": {
        "colab": {
          "base_uri": "https://localhost:8080/",
          "height": 238
        },
        "id": "OqtwJixSV4sh",
        "outputId": "2cd8efd6-8197-4831-c7e3-f7876b10c52b"
      },
      "outputs": [
        {
          "data": {
            "text/html": [
              "<div>\n",
              "<style scoped>\n",
              "    .dataframe tbody tr th:only-of-type {\n",
              "        vertical-align: middle;\n",
              "    }\n",
              "\n",
              "    .dataframe tbody tr th {\n",
              "        vertical-align: top;\n",
              "    }\n",
              "\n",
              "    .dataframe thead th {\n",
              "        text-align: right;\n",
              "    }\n",
              "</style>\n",
              "<table border=\"1\" class=\"dataframe\">\n",
              "  <thead>\n",
              "    <tr style=\"text-align: right;\">\n",
              "      <th></th>\n",
              "      <th>total_products</th>\n",
              "      <th>total_unique_products</th>\n",
              "    </tr>\n",
              "    <tr>\n",
              "      <th>CustomerID</th>\n",
              "      <th></th>\n",
              "      <th></th>\n",
              "    </tr>\n",
              "  </thead>\n",
              "  <tbody>\n",
              "    <tr>\n",
              "      <th>12347</th>\n",
              "      <td>42</td>\n",
              "      <td>23</td>\n",
              "    </tr>\n",
              "    <tr>\n",
              "      <th>12348</th>\n",
              "      <td>30</td>\n",
              "      <td>21</td>\n",
              "    </tr>\n",
              "    <tr>\n",
              "      <th>12349</th>\n",
              "      <td>18</td>\n",
              "      <td>18</td>\n",
              "    </tr>\n",
              "    <tr>\n",
              "      <th>12350</th>\n",
              "      <td>2</td>\n",
              "      <td>2</td>\n",
              "    </tr>\n",
              "    <tr>\n",
              "      <th>12352</th>\n",
              "      <td>19</td>\n",
              "      <td>10</td>\n",
              "    </tr>\n",
              "  </tbody>\n",
              "</table>\n",
              "</div>"
            ],
            "text/plain": [
              "            total_products  total_unique_products\n",
              "CustomerID                                       \n",
              "12347                   42                     23\n",
              "12348                   30                     21\n",
              "12349                   18                     18\n",
              "12350                    2                      2\n",
              "12352                   19                     10"
            ]
          },
          "execution_count": 18,
          "metadata": {},
          "output_type": "execute_result"
        }
      ],
      "source": [
        "# Aggregate product data\n",
        "product_data = df_cleaned.groupby('CustomerID').agg(total_products=('StockCode','count'), \n",
        "                                                    total_unique_products=('StockCode', 'nunique'))\n",
        "\n",
        "# Display product data for first 5 customers\n",
        "product_data.head()"
      ]
    },
    {
      "cell_type": "markdown",
      "metadata": {
        "id": "zLm4a19Sc0Ay"
      },
      "source": [
        "**Agregasi Data Penjualan:**"
      ]
    },
    {
      "cell_type": "code",
      "execution_count": 19,
      "metadata": {
        "colab": {
          "base_uri": "https://localhost:8080/",
          "height": 238
        },
        "id": "qdTQcQMGXke8",
        "outputId": "3d22aa67-e76e-4f21-a740-40a01c26ccba"
      },
      "outputs": [
        {
          "data": {
            "text/html": [
              "<div>\n",
              "<style scoped>\n",
              "    .dataframe tbody tr th:only-of-type {\n",
              "        vertical-align: middle;\n",
              "    }\n",
              "\n",
              "    .dataframe tbody tr th {\n",
              "        vertical-align: top;\n",
              "    }\n",
              "\n",
              "    .dataframe thead th {\n",
              "        text-align: right;\n",
              "    }\n",
              "</style>\n",
              "<table border=\"1\" class=\"dataframe\">\n",
              "  <thead>\n",
              "    <tr style=\"text-align: right;\">\n",
              "      <th></th>\n",
              "      <th>total_sales</th>\n",
              "      <th>avg_product_value</th>\n",
              "    </tr>\n",
              "    <tr>\n",
              "      <th>CustomerID</th>\n",
              "      <th></th>\n",
              "      <th></th>\n",
              "    </tr>\n",
              "  </thead>\n",
              "  <tbody>\n",
              "    <tr>\n",
              "      <th>12347</th>\n",
              "      <td>1541.03</td>\n",
              "      <td>36.691190</td>\n",
              "    </tr>\n",
              "    <tr>\n",
              "      <th>12348</th>\n",
              "      <td>1780.24</td>\n",
              "      <td>59.341333</td>\n",
              "    </tr>\n",
              "    <tr>\n",
              "      <th>12349</th>\n",
              "      <td>799.80</td>\n",
              "      <td>44.433333</td>\n",
              "    </tr>\n",
              "    <tr>\n",
              "      <th>12350</th>\n",
              "      <td>60.40</td>\n",
              "      <td>30.200000</td>\n",
              "    </tr>\n",
              "    <tr>\n",
              "      <th>12352</th>\n",
              "      <td>1375.10</td>\n",
              "      <td>72.373684</td>\n",
              "    </tr>\n",
              "  </tbody>\n",
              "</table>\n",
              "</div>"
            ],
            "text/plain": [
              "            total_sales  avg_product_value\n",
              "CustomerID                                \n",
              "12347           1541.03          36.691190\n",
              "12348           1780.24          59.341333\n",
              "12349            799.80          44.433333\n",
              "12350             60.40          30.200000\n",
              "12352           1375.10          72.373684"
            ]
          },
          "execution_count": 19,
          "metadata": {},
          "output_type": "execute_result"
        }
      ],
      "source": [
        "sales_data = df_cleaned.groupby('CustomerID').agg(total_sales=('Sales', 'sum'), \n",
        "                                                  avg_product_value=('Sales', 'mean'))\n",
        "\n",
        "# Display sales data for the first 5 customers\n",
        "sales_data.head()"
      ]
    },
    {
      "cell_type": "markdown",
      "metadata": {
        "id": "5z1mhkV1xJIT"
      },
      "source": [
        "**Invoice Level**\n",
        "\n",
        "Menghitung Nilai Keranjang (Cart Value)\n",
        "\n",
        "Alasan: Nilai rata-rata produk (avg_product_value) tidak memperhitungkan kelompok produk dalam \"keranjang\" atau invoice yang sama."
      ]
    },
    {
      "cell_type": "markdown",
      "metadata": {
        "id": "x2oJqHupza_i"
      },
      "source": [
        "**Agregasi cart**\n",
        "\n",
        "Hitung total penjualan per invoice"
      ]
    },
    {
      "cell_type": "code",
      "execution_count": 20,
      "metadata": {
        "colab": {
          "base_uri": "https://localhost:8080/",
          "height": 708
        },
        "id": "rEd5fRntYePs",
        "outputId": "da945a33-ff8f-42b0-889b-f07a30ec48db"
      },
      "outputs": [
        {
          "data": {
            "text/html": [
              "<div>\n",
              "<style scoped>\n",
              "    .dataframe tbody tr th:only-of-type {\n",
              "        vertical-align: middle;\n",
              "    }\n",
              "\n",
              "    .dataframe tbody tr th {\n",
              "        vertical-align: top;\n",
              "    }\n",
              "\n",
              "    .dataframe thead th {\n",
              "        text-align: right;\n",
              "    }\n",
              "</style>\n",
              "<table border=\"1\" class=\"dataframe\">\n",
              "  <thead>\n",
              "    <tr style=\"text-align: right;\">\n",
              "      <th></th>\n",
              "      <th></th>\n",
              "      <th>cart_value</th>\n",
              "    </tr>\n",
              "    <tr>\n",
              "      <th>CustomerID</th>\n",
              "      <th>InvoiceNo</th>\n",
              "      <th></th>\n",
              "    </tr>\n",
              "  </thead>\n",
              "  <tbody>\n",
              "    <tr>\n",
              "      <th rowspan=\"7\" valign=\"top\">12347</th>\n",
              "      <th>537626</th>\n",
              "      <td>131.70</td>\n",
              "    </tr>\n",
              "    <tr>\n",
              "      <th>542237</th>\n",
              "      <td>131.85</td>\n",
              "    </tr>\n",
              "    <tr>\n",
              "      <th>549222</th>\n",
              "      <td>330.45</td>\n",
              "    </tr>\n",
              "    <tr>\n",
              "      <th>556201</th>\n",
              "      <td>51.10</td>\n",
              "    </tr>\n",
              "    <tr>\n",
              "      <th>562032</th>\n",
              "      <td>325.05</td>\n",
              "    </tr>\n",
              "    <tr>\n",
              "      <th>573511</th>\n",
              "      <td>437.92</td>\n",
              "    </tr>\n",
              "    <tr>\n",
              "      <th>581180</th>\n",
              "      <td>132.96</td>\n",
              "    </tr>\n",
              "    <tr>\n",
              "      <th rowspan=\"4\" valign=\"top\">12348</th>\n",
              "      <th>539318</th>\n",
              "      <td>892.80</td>\n",
              "    </tr>\n",
              "    <tr>\n",
              "      <th>541998</th>\n",
              "      <td>227.44</td>\n",
              "    </tr>\n",
              "    <tr>\n",
              "      <th>548955</th>\n",
              "      <td>350.00</td>\n",
              "    </tr>\n",
              "    <tr>\n",
              "      <th>568172</th>\n",
              "      <td>310.00</td>\n",
              "    </tr>\n",
              "    <tr>\n",
              "      <th>12349</th>\n",
              "      <th>577609</th>\n",
              "      <td>799.80</td>\n",
              "    </tr>\n",
              "    <tr>\n",
              "      <th>12350</th>\n",
              "      <th>543037</th>\n",
              "      <td>60.40</td>\n",
              "    </tr>\n",
              "    <tr>\n",
              "      <th rowspan=\"7\" valign=\"top\">12352</th>\n",
              "      <th>544156</th>\n",
              "      <td>68.10</td>\n",
              "    </tr>\n",
              "    <tr>\n",
              "      <th>545323</th>\n",
              "      <td>74.00</td>\n",
              "    </tr>\n",
              "    <tr>\n",
              "      <th>545332</th>\n",
              "      <td>840.30</td>\n",
              "    </tr>\n",
              "    <tr>\n",
              "      <th>547390</th>\n",
              "      <td>40.00</td>\n",
              "    </tr>\n",
              "    <tr>\n",
              "      <th>567505</th>\n",
              "      <td>139.00</td>\n",
              "    </tr>\n",
              "    <tr>\n",
              "      <th>568699</th>\n",
              "      <td>79.80</td>\n",
              "    </tr>\n",
              "    <tr>\n",
              "      <th>574275</th>\n",
              "      <td>133.90</td>\n",
              "    </tr>\n",
              "  </tbody>\n",
              "</table>\n",
              "</div>"
            ],
            "text/plain": [
              "                      cart_value\n",
              "CustomerID InvoiceNo            \n",
              "12347      537626         131.70\n",
              "           542237         131.85\n",
              "           549222         330.45\n",
              "           556201          51.10\n",
              "           562032         325.05\n",
              "           573511         437.92\n",
              "           581180         132.96\n",
              "12348      539318         892.80\n",
              "           541998         227.44\n",
              "           548955         350.00\n",
              "           568172         310.00\n",
              "12349      577609         799.80\n",
              "12350      543037          60.40\n",
              "12352      544156          68.10\n",
              "           545323          74.00\n",
              "           545332         840.30\n",
              "           547390          40.00\n",
              "           567505         139.00\n",
              "           568699          79.80\n",
              "           574275         133.90"
            ]
          },
          "execution_count": 20,
          "metadata": {},
          "output_type": "execute_result"
        }
      ],
      "source": [
        "# Aggregate cart-level data (i.e. invoice-level)\n",
        "cart_data = df_cleaned.groupby(['CustomerID' , 'InvoiceNo']).agg(cart_value=('Sales','sum'))\n",
        "\n",
        "# Display cart data for first 20 CARTS\n",
        "cart_data.head(20)"
      ]
    },
    {
      "cell_type": "code",
      "execution_count": 21,
      "metadata": {
        "colab": {
          "base_uri": "https://localhost:8080/",
          "height": 363
        },
        "id": "RwzgJhOLSRC6",
        "outputId": "4eb04305-6bdb-4001-bf29-9476e4c208c8"
      },
      "outputs": [
        {
          "data": {
            "text/html": [
              "<div>\n",
              "<style scoped>\n",
              "    .dataframe tbody tr th:only-of-type {\n",
              "        vertical-align: middle;\n",
              "    }\n",
              "\n",
              "    .dataframe tbody tr th {\n",
              "        vertical-align: top;\n",
              "    }\n",
              "\n",
              "    .dataframe thead th {\n",
              "        text-align: right;\n",
              "    }\n",
              "</style>\n",
              "<table border=\"1\" class=\"dataframe\">\n",
              "  <thead>\n",
              "    <tr style=\"text-align: right;\">\n",
              "      <th></th>\n",
              "      <th>CustomerID</th>\n",
              "      <th>InvoiceNo</th>\n",
              "      <th>cart_value</th>\n",
              "    </tr>\n",
              "  </thead>\n",
              "  <tbody>\n",
              "    <tr>\n",
              "      <th>0</th>\n",
              "      <td>12347</td>\n",
              "      <td>537626</td>\n",
              "      <td>131.70</td>\n",
              "    </tr>\n",
              "    <tr>\n",
              "      <th>1</th>\n",
              "      <td>12347</td>\n",
              "      <td>542237</td>\n",
              "      <td>131.85</td>\n",
              "    </tr>\n",
              "    <tr>\n",
              "      <th>2</th>\n",
              "      <td>12347</td>\n",
              "      <td>549222</td>\n",
              "      <td>330.45</td>\n",
              "    </tr>\n",
              "    <tr>\n",
              "      <th>3</th>\n",
              "      <td>12347</td>\n",
              "      <td>556201</td>\n",
              "      <td>51.10</td>\n",
              "    </tr>\n",
              "    <tr>\n",
              "      <th>4</th>\n",
              "      <td>12347</td>\n",
              "      <td>562032</td>\n",
              "      <td>325.05</td>\n",
              "    </tr>\n",
              "    <tr>\n",
              "      <th>5</th>\n",
              "      <td>12347</td>\n",
              "      <td>573511</td>\n",
              "      <td>437.92</td>\n",
              "    </tr>\n",
              "    <tr>\n",
              "      <th>6</th>\n",
              "      <td>12347</td>\n",
              "      <td>581180</td>\n",
              "      <td>132.96</td>\n",
              "    </tr>\n",
              "    <tr>\n",
              "      <th>7</th>\n",
              "      <td>12348</td>\n",
              "      <td>539318</td>\n",
              "      <td>892.80</td>\n",
              "    </tr>\n",
              "    <tr>\n",
              "      <th>8</th>\n",
              "      <td>12348</td>\n",
              "      <td>541998</td>\n",
              "      <td>227.44</td>\n",
              "    </tr>\n",
              "    <tr>\n",
              "      <th>9</th>\n",
              "      <td>12348</td>\n",
              "      <td>548955</td>\n",
              "      <td>350.00</td>\n",
              "    </tr>\n",
              "  </tbody>\n",
              "</table>\n",
              "</div>"
            ],
            "text/plain": [
              "   CustomerID  InvoiceNo  cart_value\n",
              "0       12347     537626      131.70\n",
              "1       12347     542237      131.85\n",
              "2       12347     549222      330.45\n",
              "3       12347     556201       51.10\n",
              "4       12347     562032      325.05\n",
              "5       12347     573511      437.92\n",
              "6       12347     581180      132.96\n",
              "7       12348     539318      892.80\n",
              "8       12348     541998      227.44\n",
              "9       12348     548955      350.00"
            ]
          },
          "execution_count": 21,
          "metadata": {},
          "output_type": "execute_result"
        }
      ],
      "source": [
        "# Reset index\n",
        "cart_data.reset_index(inplace=True)\n",
        "\n",
        "# Display cart data for first 10 CARTS\n",
        "cart_data.head(10)"
      ]
    },
    {
      "cell_type": "markdown",
      "metadata": {
        "id": "oWBuQmco0TMU"
      },
      "source": [
        "**Agregasi data cart berdasarkan pelanggan**\n",
        "\n",
        "*   'avg_cart_value' - nilai cart rata-rata per pelanggan.\n",
        "*   'min_cart_value' - nilai cart minimum berdasarkan pelanggan.\n",
        "*   'max_cart_value' - nilai maksimum cart berdasarkan pelanggan."
      ]
    },
    {
      "cell_type": "code",
      "execution_count": 22,
      "metadata": {
        "colab": {
          "base_uri": "https://localhost:8080/",
          "height": 238
        },
        "id": "oZ0XxsAvSW6q",
        "outputId": "7b8b1910-487f-4d14-a127-e7d814f075cc"
      },
      "outputs": [
        {
          "data": {
            "text/html": [
              "<div>\n",
              "<style scoped>\n",
              "    .dataframe tbody tr th:only-of-type {\n",
              "        vertical-align: middle;\n",
              "    }\n",
              "\n",
              "    .dataframe tbody tr th {\n",
              "        vertical-align: top;\n",
              "    }\n",
              "\n",
              "    .dataframe thead th {\n",
              "        text-align: right;\n",
              "    }\n",
              "</style>\n",
              "<table border=\"1\" class=\"dataframe\">\n",
              "  <thead>\n",
              "    <tr style=\"text-align: right;\">\n",
              "      <th></th>\n",
              "      <th>avg_cart_value</th>\n",
              "      <th>min_cart_value</th>\n",
              "      <th>max_cart_value</th>\n",
              "    </tr>\n",
              "    <tr>\n",
              "      <th>CustomerID</th>\n",
              "      <th></th>\n",
              "      <th></th>\n",
              "      <th></th>\n",
              "    </tr>\n",
              "  </thead>\n",
              "  <tbody>\n",
              "    <tr>\n",
              "      <th>12347</th>\n",
              "      <td>220.147143</td>\n",
              "      <td>51.10</td>\n",
              "      <td>437.92</td>\n",
              "    </tr>\n",
              "    <tr>\n",
              "      <th>12348</th>\n",
              "      <td>445.060000</td>\n",
              "      <td>227.44</td>\n",
              "      <td>892.80</td>\n",
              "    </tr>\n",
              "    <tr>\n",
              "      <th>12349</th>\n",
              "      <td>799.800000</td>\n",
              "      <td>799.80</td>\n",
              "      <td>799.80</td>\n",
              "    </tr>\n",
              "    <tr>\n",
              "      <th>12350</th>\n",
              "      <td>60.400000</td>\n",
              "      <td>60.40</td>\n",
              "      <td>60.40</td>\n",
              "    </tr>\n",
              "    <tr>\n",
              "      <th>12352</th>\n",
              "      <td>196.442857</td>\n",
              "      <td>40.00</td>\n",
              "      <td>840.30</td>\n",
              "    </tr>\n",
              "  </tbody>\n",
              "</table>\n",
              "</div>"
            ],
            "text/plain": [
              "            avg_cart_value  min_cart_value  max_cart_value\n",
              "CustomerID                                                \n",
              "12347           220.147143           51.10          437.92\n",
              "12348           445.060000          227.44          892.80\n",
              "12349           799.800000          799.80          799.80\n",
              "12350            60.400000           60.40           60.40\n",
              "12352           196.442857           40.00          840.30"
            ]
          },
          "execution_count": 22,
          "metadata": {},
          "output_type": "execute_result"
        }
      ],
      "source": [
        "agg_cart_data = cart_data.groupby('CustomerID').agg(\n",
        "    avg_cart_value=('cart_value', 'mean'),\n",
        "    min_cart_value=('cart_value', 'min'),\n",
        "    max_cart_value=('cart_value', 'max')\n",
        ")\n",
        "\n",
        "# Display cart data for first 5 CUSTOMERS\n",
        "agg_cart_data.head()"
      ]
    },
    {
      "cell_type": "markdown",
      "metadata": {
        "id": "tBLklvmGTKLJ"
      },
      "source": [
        "**Join Dataframes**\n",
        "\n",
        "Menggabungkan berbagai dataframe:\n",
        "*   invoice_data\n",
        "*   product_data\n",
        "*   sales_data\n",
        "*   agg_cart_data"
      ]
    },
    {
      "cell_type": "code",
      "execution_count": 23,
      "metadata": {
        "colab": {
          "base_uri": "https://localhost:8080/",
          "height": 258
        },
        "id": "JEOPiUlpTLS9",
        "outputId": "b8b8e77e-b65e-4a7c-87ba-d115f306560c"
      },
      "outputs": [
        {
          "data": {
            "text/html": [
              "<div>\n",
              "<style scoped>\n",
              "    .dataframe tbody tr th:only-of-type {\n",
              "        vertical-align: middle;\n",
              "    }\n",
              "\n",
              "    .dataframe tbody tr th {\n",
              "        vertical-align: top;\n",
              "    }\n",
              "\n",
              "    .dataframe thead th {\n",
              "        text-align: right;\n",
              "    }\n",
              "</style>\n",
              "<table border=\"1\" class=\"dataframe\">\n",
              "  <thead>\n",
              "    <tr style=\"text-align: right;\">\n",
              "      <th></th>\n",
              "      <th>total_transactions</th>\n",
              "      <th>total_products</th>\n",
              "      <th>total_unique_products</th>\n",
              "      <th>total_sales</th>\n",
              "      <th>avg_product_value</th>\n",
              "      <th>avg_cart_value</th>\n",
              "      <th>min_cart_value</th>\n",
              "      <th>max_cart_value</th>\n",
              "    </tr>\n",
              "    <tr>\n",
              "      <th>CustomerID</th>\n",
              "      <th></th>\n",
              "      <th></th>\n",
              "      <th></th>\n",
              "      <th></th>\n",
              "      <th></th>\n",
              "      <th></th>\n",
              "      <th></th>\n",
              "      <th></th>\n",
              "    </tr>\n",
              "  </thead>\n",
              "  <tbody>\n",
              "    <tr>\n",
              "      <th>12347</th>\n",
              "      <td>7</td>\n",
              "      <td>42</td>\n",
              "      <td>23</td>\n",
              "      <td>1541.03</td>\n",
              "      <td>36.691190</td>\n",
              "      <td>220.147143</td>\n",
              "      <td>51.10</td>\n",
              "      <td>437.92</td>\n",
              "    </tr>\n",
              "    <tr>\n",
              "      <th>12348</th>\n",
              "      <td>4</td>\n",
              "      <td>30</td>\n",
              "      <td>21</td>\n",
              "      <td>1780.24</td>\n",
              "      <td>59.341333</td>\n",
              "      <td>445.060000</td>\n",
              "      <td>227.44</td>\n",
              "      <td>892.80</td>\n",
              "    </tr>\n",
              "    <tr>\n",
              "      <th>12349</th>\n",
              "      <td>1</td>\n",
              "      <td>18</td>\n",
              "      <td>18</td>\n",
              "      <td>799.80</td>\n",
              "      <td>44.433333</td>\n",
              "      <td>799.800000</td>\n",
              "      <td>799.80</td>\n",
              "      <td>799.80</td>\n",
              "    </tr>\n",
              "    <tr>\n",
              "      <th>12350</th>\n",
              "      <td>1</td>\n",
              "      <td>2</td>\n",
              "      <td>2</td>\n",
              "      <td>60.40</td>\n",
              "      <td>30.200000</td>\n",
              "      <td>60.400000</td>\n",
              "      <td>60.40</td>\n",
              "      <td>60.40</td>\n",
              "    </tr>\n",
              "    <tr>\n",
              "      <th>12352</th>\n",
              "      <td>7</td>\n",
              "      <td>19</td>\n",
              "      <td>10</td>\n",
              "      <td>1375.10</td>\n",
              "      <td>72.373684</td>\n",
              "      <td>196.442857</td>\n",
              "      <td>40.00</td>\n",
              "      <td>840.30</td>\n",
              "    </tr>\n",
              "  </tbody>\n",
              "</table>\n",
              "</div>"
            ],
            "text/plain": [
              "            total_transactions  total_products  total_unique_products  \\\n",
              "CustomerID                                                              \n",
              "12347                        7              42                     23   \n",
              "12348                        4              30                     21   \n",
              "12349                        1              18                     18   \n",
              "12350                        1               2                      2   \n",
              "12352                        7              19                     10   \n",
              "\n",
              "            total_sales  avg_product_value  avg_cart_value  min_cart_value  \\\n",
              "CustomerID                                                                   \n",
              "12347           1541.03          36.691190      220.147143           51.10   \n",
              "12348           1780.24          59.341333      445.060000          227.44   \n",
              "12349            799.80          44.433333      799.800000          799.80   \n",
              "12350             60.40          30.200000       60.400000           60.40   \n",
              "12352           1375.10          72.373684      196.442857           40.00   \n",
              "\n",
              "            max_cart_value  \n",
              "CustomerID                  \n",
              "12347               437.92  \n",
              "12348               892.80  \n",
              "12349               799.80  \n",
              "12350                60.40  \n",
              "12352               840.30  "
            ]
          },
          "execution_count": 23,
          "metadata": {},
          "output_type": "execute_result"
        }
      ],
      "source": [
        "# Join together customer-level data\n",
        "customer_df = invoice_data.join([product_data, sales_data, agg_cart_data])\n",
        "\n",
        "# Display customer-level data for first 5 customers\n",
        "customer_df.head()"
      ]
    },
    {
      "cell_type": "code",
      "execution_count": 24,
      "metadata": {},
      "outputs": [],
      "source": [
        "customer_df.to_csv('analytical_base_table.csv')"
      ]
    },
    {
      "cell_type": "markdown",
      "metadata": {},
      "source": [
        "Standarisasi Data"
      ]
    },
    {
      "cell_type": "code",
      "execution_count": 25,
      "metadata": {},
      "outputs": [
        {
          "data": {
            "text/html": [
              "<div>\n",
              "<style scoped>\n",
              "    .dataframe tbody tr th:only-of-type {\n",
              "        vertical-align: middle;\n",
              "    }\n",
              "\n",
              "    .dataframe tbody tr th {\n",
              "        vertical-align: top;\n",
              "    }\n",
              "\n",
              "    .dataframe thead th {\n",
              "        text-align: right;\n",
              "    }\n",
              "</style>\n",
              "<table border=\"1\" class=\"dataframe\">\n",
              "  <thead>\n",
              "    <tr style=\"text-align: right;\">\n",
              "      <th></th>\n",
              "      <th>CustomerID</th>\n",
              "      <th>total_transactions</th>\n",
              "      <th>total_products</th>\n",
              "      <th>total_unique_products</th>\n",
              "      <th>total_sales</th>\n",
              "      <th>avg_product_value</th>\n",
              "      <th>avg_cart_value</th>\n",
              "      <th>min_cart_value</th>\n",
              "      <th>max_cart_value</th>\n",
              "    </tr>\n",
              "  </thead>\n",
              "  <tbody>\n",
              "    <tr>\n",
              "      <th>0</th>\n",
              "      <td>12347</td>\n",
              "      <td>7</td>\n",
              "      <td>42</td>\n",
              "      <td>23</td>\n",
              "      <td>1541.03</td>\n",
              "      <td>36.691190</td>\n",
              "      <td>220.147143</td>\n",
              "      <td>51.10</td>\n",
              "      <td>437.92</td>\n",
              "    </tr>\n",
              "    <tr>\n",
              "      <th>1</th>\n",
              "      <td>12348</td>\n",
              "      <td>4</td>\n",
              "      <td>30</td>\n",
              "      <td>21</td>\n",
              "      <td>1780.24</td>\n",
              "      <td>59.341333</td>\n",
              "      <td>445.060000</td>\n",
              "      <td>227.44</td>\n",
              "      <td>892.80</td>\n",
              "    </tr>\n",
              "    <tr>\n",
              "      <th>2</th>\n",
              "      <td>12349</td>\n",
              "      <td>1</td>\n",
              "      <td>18</td>\n",
              "      <td>18</td>\n",
              "      <td>799.80</td>\n",
              "      <td>44.433333</td>\n",
              "      <td>799.800000</td>\n",
              "      <td>799.80</td>\n",
              "      <td>799.80</td>\n",
              "    </tr>\n",
              "    <tr>\n",
              "      <th>3</th>\n",
              "      <td>12350</td>\n",
              "      <td>1</td>\n",
              "      <td>2</td>\n",
              "      <td>2</td>\n",
              "      <td>60.40</td>\n",
              "      <td>30.200000</td>\n",
              "      <td>60.400000</td>\n",
              "      <td>60.40</td>\n",
              "      <td>60.40</td>\n",
              "    </tr>\n",
              "    <tr>\n",
              "      <th>4</th>\n",
              "      <td>12352</td>\n",
              "      <td>7</td>\n",
              "      <td>19</td>\n",
              "      <td>10</td>\n",
              "      <td>1375.10</td>\n",
              "      <td>72.373684</td>\n",
              "      <td>196.442857</td>\n",
              "      <td>40.00</td>\n",
              "      <td>840.30</td>\n",
              "    </tr>\n",
              "  </tbody>\n",
              "</table>\n",
              "</div>"
            ],
            "text/plain": [
              "   CustomerID  total_transactions  total_products  total_unique_products  \\\n",
              "0       12347                   7              42                     23   \n",
              "1       12348                   4              30                     21   \n",
              "2       12349                   1              18                     18   \n",
              "3       12350                   1               2                      2   \n",
              "4       12352                   7              19                     10   \n",
              "\n",
              "   total_sales  avg_product_value  avg_cart_value  min_cart_value  \\\n",
              "0      1541.03          36.691190      220.147143           51.10   \n",
              "1      1780.24          59.341333      445.060000          227.44   \n",
              "2       799.80          44.433333      799.800000          799.80   \n",
              "3        60.40          30.200000       60.400000           60.40   \n",
              "4      1375.10          72.373684      196.442857           40.00   \n",
              "\n",
              "   max_cart_value  \n",
              "0          437.92  \n",
              "1          892.80  \n",
              "2          799.80  \n",
              "3           60.40  \n",
              "4          840.30  "
            ]
          },
          "execution_count": 25,
          "metadata": {},
          "output_type": "execute_result"
        }
      ],
      "source": [
        "data = pd.read_csv('analytical_base_table.csv')\n",
        "data.head()"
      ]
    },
    {
      "cell_type": "code",
      "execution_count": 26,
      "metadata": {},
      "outputs": [],
      "source": [
        "scaler = StandardScaler()\n",
        "x_scaled = scaler.fit_transform(data.iloc[:, 1:])"
      ]
    },
    {
      "cell_type": "markdown",
      "metadata": {},
      "source": [
        "## **Data Reduction**"
      ]
    },
    {
      "cell_type": "code",
      "execution_count": 27,
      "metadata": {},
      "outputs": [
        {
          "name": "stdout",
          "output_type": "stream",
          "text": [
            "Total variance explained by 2 components: 0.78\n"
          ]
        }
      ],
      "source": [
        "pca = PCA(n_components=2)  # Reduksi ke 2 dimensi\n",
        "data_pca = pca.fit_transform(x_scaled)\n",
        "\n",
        "# Visualisasi varians yang dijelaskan oleh PCA\n",
        "explained_variance = pca.explained_variance_ratio_.sum()\n",
        "print(f\"Total variance explained by 2 components: {explained_variance:.2f}\")"
      ]
    },
    {
      "cell_type": "markdown",
      "metadata": {
        "id": "q4fQDBx1XhwN"
      },
      "source": [
        "## **K-Means Clustering**"
      ]
    },
    {
      "cell_type": "markdown",
      "metadata": {},
      "source": [
        "Elbow Method"
      ]
    },
    {
      "cell_type": "code",
      "execution_count": 28,
      "metadata": {},
      "outputs": [
        {
          "data": {
            "image/png": "[encoded data removed]",
            "text/plain": [
              "<Figure size 640x480 with 1 Axes>"
            ]
          },
          "metadata": {},
          "output_type": "display_data"
        }
      ],
      "source": [
        "inertia = []\n",
        "k_range = range(1, 11)\n",
        "\n",
        "for k in k_range:\n",
        "    kmeans = KMeans(n_clusters=k, random_state=42)\n",
        "    kmeans.fit(data.iloc[:, 1:])\n",
        "    inertia.append(kmeans.inertia_)\n",
        "\n",
        "plt.plot(k_range, inertia, '-o')\n",
        "plt.xlabel('Number of Clusters (k)')\n",
        "plt.ylabel('Inertia')\n",
        "plt.title('Elbow Method')\n",
        "plt.show()"
      ]
    },
    {
      "cell_type": "markdown",
      "metadata": {},
      "source": [
        "Build Model"
      ]
    },
    {
      "cell_type": "code",
      "execution_count": 29,
      "metadata": {},
      "outputs": [],
      "source": [
        "k_optimal = 3 \n",
        "kmeans = KMeans(n_clusters=k_optimal, random_state=42)\n",
        "clusters = kmeans.fit_predict(data_pca) "
      ]
    },
    {
      "cell_type": "code",
      "execution_count": 30,
      "metadata": {},
      "outputs": [
        {
          "data": {
            "text/html": [
              "<div>\n",
              "<style scoped>\n",
              "    .dataframe tbody tr th:only-of-type {\n",
              "        vertical-align: middle;\n",
              "    }\n",
              "\n",
              "    .dataframe tbody tr th {\n",
              "        vertical-align: top;\n",
              "    }\n",
              "\n",
              "    .dataframe thead th {\n",
              "        text-align: right;\n",
              "    }\n",
              "</style>\n",
              "<table border=\"1\" class=\"dataframe\">\n",
              "  <thead>\n",
              "    <tr style=\"text-align: right;\">\n",
              "      <th></th>\n",
              "      <th>CustomerID</th>\n",
              "      <th>total_transactions</th>\n",
              "      <th>total_products</th>\n",
              "      <th>total_unique_products</th>\n",
              "      <th>total_sales</th>\n",
              "      <th>avg_product_value</th>\n",
              "      <th>avg_cart_value</th>\n",
              "      <th>min_cart_value</th>\n",
              "      <th>max_cart_value</th>\n",
              "      <th>Cluster</th>\n",
              "    </tr>\n",
              "  </thead>\n",
              "  <tbody>\n",
              "    <tr>\n",
              "      <th>0</th>\n",
              "      <td>12347</td>\n",
              "      <td>7</td>\n",
              "      <td>42</td>\n",
              "      <td>23</td>\n",
              "      <td>1541.03</td>\n",
              "      <td>36.691190</td>\n",
              "      <td>220.147143</td>\n",
              "      <td>51.10</td>\n",
              "      <td>437.92</td>\n",
              "      <td>1</td>\n",
              "    </tr>\n",
              "    <tr>\n",
              "      <th>1</th>\n",
              "      <td>12348</td>\n",
              "      <td>4</td>\n",
              "      <td>30</td>\n",
              "      <td>21</td>\n",
              "      <td>1780.24</td>\n",
              "      <td>59.341333</td>\n",
              "      <td>445.060000</td>\n",
              "      <td>227.44</td>\n",
              "      <td>892.80</td>\n",
              "      <td>1</td>\n",
              "    </tr>\n",
              "    <tr>\n",
              "      <th>2</th>\n",
              "      <td>12349</td>\n",
              "      <td>1</td>\n",
              "      <td>18</td>\n",
              "      <td>18</td>\n",
              "      <td>799.80</td>\n",
              "      <td>44.433333</td>\n",
              "      <td>799.800000</td>\n",
              "      <td>799.80</td>\n",
              "      <td>799.80</td>\n",
              "      <td>1</td>\n",
              "    </tr>\n",
              "    <tr>\n",
              "      <th>3</th>\n",
              "      <td>12350</td>\n",
              "      <td>1</td>\n",
              "      <td>2</td>\n",
              "      <td>2</td>\n",
              "      <td>60.40</td>\n",
              "      <td>30.200000</td>\n",
              "      <td>60.400000</td>\n",
              "      <td>60.40</td>\n",
              "      <td>60.40</td>\n",
              "      <td>1</td>\n",
              "    </tr>\n",
              "    <tr>\n",
              "      <th>4</th>\n",
              "      <td>12352</td>\n",
              "      <td>7</td>\n",
              "      <td>19</td>\n",
              "      <td>10</td>\n",
              "      <td>1375.10</td>\n",
              "      <td>72.373684</td>\n",
              "      <td>196.442857</td>\n",
              "      <td>40.00</td>\n",
              "      <td>840.30</td>\n",
              "      <td>1</td>\n",
              "    </tr>\n",
              "  </tbody>\n",
              "</table>\n",
              "</div>"
            ],
            "text/plain": [
              "   CustomerID  total_transactions  total_products  total_unique_products  \\\n",
              "0       12347                   7              42                     23   \n",
              "1       12348                   4              30                     21   \n",
              "2       12349                   1              18                     18   \n",
              "3       12350                   1               2                      2   \n",
              "4       12352                   7              19                     10   \n",
              "\n",
              "   total_sales  avg_product_value  avg_cart_value  min_cart_value  \\\n",
              "0      1541.03          36.691190      220.147143           51.10   \n",
              "1      1780.24          59.341333      445.060000          227.44   \n",
              "2       799.80          44.433333      799.800000          799.80   \n",
              "3        60.40          30.200000       60.400000           60.40   \n",
              "4      1375.10          72.373684      196.442857           40.00   \n",
              "\n",
              "   max_cart_value  Cluster  \n",
              "0          437.92        1  \n",
              "1          892.80        1  \n",
              "2          799.80        1  \n",
              "3           60.40        1  \n",
              "4          840.30        1  "
            ]
          },
          "execution_count": 30,
          "metadata": {},
          "output_type": "execute_result"
        }
      ],
      "source": [
        "# Tambahkan hasil cluster ke dataset asli\n",
        "data['Cluster'] = clusters\n",
        "\n",
        "data.head()"
      ]
    },
    {
      "cell_type": "code",
      "execution_count": 31,
      "metadata": {},
      "outputs": [
        {
          "name": "stdout",
          "output_type": "stream",
          "text": [
            "Cluster\n",
            "1    367\n",
            "0     27\n",
            "2     14\n",
            "Name: count, dtype: int64\n"
          ]
        }
      ],
      "source": [
        "# Jumlah pelanggan per cluster\n",
        "print(data['Cluster'].value_counts())"
      ]
    },
    {
      "cell_type": "code",
      "execution_count": 32,
      "metadata": {},
      "outputs": [
        {
          "name": "stdout",
          "output_type": "stream",
          "text": [
            "Silhouette Score: 0.7515262397618814\n"
          ]
        }
      ],
      "source": [
        "silhouette_avg = silhouette_score(data.iloc[:, 1:], data['Cluster'])\n",
        "print(f\"Silhouette Score: {silhouette_avg}\")"
      ]
    },
    {
      "cell_type": "markdown",
      "metadata": {},
      "source": [
        "Labeling Cluster"
      ]
    },
    {
      "cell_type": "code",
      "execution_count": 34,
      "metadata": {},
      "outputs": [
        {
          "name": "stdout",
          "output_type": "stream",
          "text": [
            "           CustomerID  total_transactions  total_products  \\\n",
            "Cluster                                                     \n",
            "0        12824.111111           14.222222      119.703704   \n",
            "1        12826.779292            2.861035       16.874659   \n",
            "2        12613.000000            2.571429       59.714286   \n",
            "\n",
            "         total_unique_products  total_sales  avg_product_value  \\\n",
            "Cluster                                                          \n",
            "0                    69.222222  6525.630370          50.744100   \n",
            "1                    13.253406   633.062779          39.558055   \n",
            "2                    51.142857  8313.520000         334.367064   \n",
            "\n",
            "         avg_cart_value  min_cart_value  max_cart_value  \n",
            "Cluster                                                  \n",
            "0            558.730389       94.008519     1475.640741  \n",
            "1            231.408057      161.612098      328.400027  \n",
            "2           3466.144204     2446.691429     4598.058571  \n"
          ]
        }
      ],
      "source": [
        "# Statistik deskriptif tiap cluster\n",
        "cluster_analysis = data.groupby('Cluster').mean()\n",
        "print(cluster_analysis)"
      ]
    },
    {
      "cell_type": "code",
      "execution_count": 36,
      "metadata": {},
      "outputs": [
        {
          "data": {
            "text/html": [
              "<div>\n",
              "<style scoped>\n",
              "    .dataframe tbody tr th:only-of-type {\n",
              "        vertical-align: middle;\n",
              "    }\n",
              "\n",
              "    .dataframe tbody tr th {\n",
              "        vertical-align: top;\n",
              "    }\n",
              "\n",
              "    .dataframe thead th {\n",
              "        text-align: right;\n",
              "    }\n",
              "</style>\n",
              "<table border=\"1\" class=\"dataframe\">\n",
              "  <thead>\n",
              "    <tr style=\"text-align: right;\">\n",
              "      <th></th>\n",
              "      <th>CustomerID</th>\n",
              "      <th>total_transactions</th>\n",
              "      <th>total_products</th>\n",
              "      <th>total_unique_products</th>\n",
              "      <th>total_sales</th>\n",
              "      <th>avg_product_value</th>\n",
              "      <th>avg_cart_value</th>\n",
              "      <th>min_cart_value</th>\n",
              "      <th>max_cart_value</th>\n",
              "      <th>Cluster</th>\n",
              "      <th>Customer_Segment</th>\n",
              "    </tr>\n",
              "  </thead>\n",
              "  <tbody>\n",
              "    <tr>\n",
              "      <th>0</th>\n",
              "      <td>12347</td>\n",
              "      <td>7</td>\n",
              "      <td>42</td>\n",
              "      <td>23</td>\n",
              "      <td>1541.03</td>\n",
              "      <td>36.691190</td>\n",
              "      <td>220.147143</td>\n",
              "      <td>51.10</td>\n",
              "      <td>437.92</td>\n",
              "      <td>1</td>\n",
              "      <td>Occasional Shoppers</td>\n",
              "    </tr>\n",
              "    <tr>\n",
              "      <th>1</th>\n",
              "      <td>12348</td>\n",
              "      <td>4</td>\n",
              "      <td>30</td>\n",
              "      <td>21</td>\n",
              "      <td>1780.24</td>\n",
              "      <td>59.341333</td>\n",
              "      <td>445.060000</td>\n",
              "      <td>227.44</td>\n",
              "      <td>892.80</td>\n",
              "      <td>1</td>\n",
              "      <td>Occasional Shoppers</td>\n",
              "    </tr>\n",
              "    <tr>\n",
              "      <th>2</th>\n",
              "      <td>12349</td>\n",
              "      <td>1</td>\n",
              "      <td>18</td>\n",
              "      <td>18</td>\n",
              "      <td>799.80</td>\n",
              "      <td>44.433333</td>\n",
              "      <td>799.800000</td>\n",
              "      <td>799.80</td>\n",
              "      <td>799.80</td>\n",
              "      <td>1</td>\n",
              "      <td>Occasional Shoppers</td>\n",
              "    </tr>\n",
              "    <tr>\n",
              "      <th>3</th>\n",
              "      <td>12350</td>\n",
              "      <td>1</td>\n",
              "      <td>2</td>\n",
              "      <td>2</td>\n",
              "      <td>60.40</td>\n",
              "      <td>30.200000</td>\n",
              "      <td>60.400000</td>\n",
              "      <td>60.40</td>\n",
              "      <td>60.40</td>\n",
              "      <td>1</td>\n",
              "      <td>Occasional Shoppers</td>\n",
              "    </tr>\n",
              "    <tr>\n",
              "      <th>4</th>\n",
              "      <td>12352</td>\n",
              "      <td>7</td>\n",
              "      <td>19</td>\n",
              "      <td>10</td>\n",
              "      <td>1375.10</td>\n",
              "      <td>72.373684</td>\n",
              "      <td>196.442857</td>\n",
              "      <td>40.00</td>\n",
              "      <td>840.30</td>\n",
              "      <td>1</td>\n",
              "      <td>Occasional Shoppers</td>\n",
              "    </tr>\n",
              "  </tbody>\n",
              "</table>\n",
              "</div>"
            ],
            "text/plain": [
              "   CustomerID  total_transactions  total_products  total_unique_products  \\\n",
              "0       12347                   7              42                     23   \n",
              "1       12348                   4              30                     21   \n",
              "2       12349                   1              18                     18   \n",
              "3       12350                   1               2                      2   \n",
              "4       12352                   7              19                     10   \n",
              "\n",
              "   total_sales  avg_product_value  avg_cart_value  min_cart_value  \\\n",
              "0      1541.03          36.691190      220.147143           51.10   \n",
              "1      1780.24          59.341333      445.060000          227.44   \n",
              "2       799.80          44.433333      799.800000          799.80   \n",
              "3        60.40          30.200000       60.400000           60.40   \n",
              "4      1375.10          72.373684      196.442857           40.00   \n",
              "\n",
              "   max_cart_value  Cluster     Customer_Segment  \n",
              "0          437.92        1  Occasional Shoppers  \n",
              "1          892.80        1  Occasional Shoppers  \n",
              "2          799.80        1  Occasional Shoppers  \n",
              "3           60.40        1  Occasional Shoppers  \n",
              "4          840.30        1  Occasional Shoppers  "
            ]
          },
          "execution_count": 36,
          "metadata": {},
          "output_type": "execute_result"
        }
      ],
      "source": [
        "# Mapping label ke masing-masing cluster\n",
        "cluster_labels = {\n",
        "    0: \"Loyal High-Spender\",  \n",
        "    1: \"Occasional Shoppers\",\n",
        "    2: \"Premium Customers\"\n",
        "}\n",
        "\n",
        "# Tambahkan kolom label ke dataset\n",
        "data['Customer_Segment'] = data['Cluster'].map(cluster_labels)\n",
        "\n",
        "# Tampilkan data dengan label\n",
        "data.head()"
      ]
    },
    {
      "cell_type": "code",
      "execution_count": 37,
      "metadata": {},
      "outputs": [],
      "source": [
        "data.to_csv('hasil_clustering.csv')"
      ]
    },
    {
      "cell_type": "markdown",
      "metadata": {},
      "source": [
        "Visualisasi PCA"
      ]
    },
    {
      "cell_type": "code",
      "execution_count": 38,
      "metadata": {},
      "outputs": [
        {
          "data": {
            "image/png": "[encoded data removed]",
            "text/plain": [
              "<Figure size 1500x700 with 1 Axes>"
            ]
          },
          "metadata": {},
          "output_type": "display_data"
        }
      ],
      "source": [
        "import matplotlib.pyplot as plt\n",
        "\n",
        "# Scatter plot untuk visualisasi cluster\n",
        "plt.figure(figsize=(15, 7))\n",
        "\n",
        "# Iterasi untuk setiap cluster\n",
        "for cluster in data[\"Cluster\"].unique():\n",
        "    cluster_points = data_pca[clusters == cluster]  # Ambil data sesuai cluster\n",
        "    plt.scatter(\n",
        "        cluster_points[:, 0],  # Kolom pertama PCA\n",
        "        cluster_points[:, 1],  # Kolom kedua PCA\n",
        "        label=f'Cluster {cluster}: {cluster_labels[cluster]}',\n",
        "        alpha=0.6\n",
        "    )\n",
        "\n",
        "# Scatter plot untuk centroids\n",
        "plt.scatter(\n",
        "    kmeans.cluster_centers_[:, 0],\n",
        "    kmeans.cluster_centers_[:, 1],\n",
        "    color='red',\n",
        "    marker='x',\n",
        "    s=200,\n",
        "    label='Centroids'\n",
        ")\n",
        "\n",
        "# Tambahkan judul, label, dan legenda\n",
        "plt.title('Customer Segmentation (K-Means)')\n",
        "plt.xlabel('Principal Component 1')\n",
        "plt.ylabel('Principal Component 2')\n",
        "plt.legend(title=\"Clusters\", loc='upper right')\n",
        "plt.grid(True)\n",
        "plt.show()\n"
      ]
    },
    {
      "cell_type": "markdown",
      "metadata": {},
      "source": [
        "Mencoba dengan 4 Cluster"
      ]
    },
    {
      "cell_type": "code",
      "execution_count": 39,
      "metadata": {},
      "outputs": [
        {
          "data": {
            "text/html": [
              "<div>\n",
              "<style scoped>\n",
              "    .dataframe tbody tr th:only-of-type {\n",
              "        vertical-align: middle;\n",
              "    }\n",
              "\n",
              "    .dataframe tbody tr th {\n",
              "        vertical-align: top;\n",
              "    }\n",
              "\n",
              "    .dataframe thead th {\n",
              "        text-align: right;\n",
              "    }\n",
              "</style>\n",
              "<table border=\"1\" class=\"dataframe\">\n",
              "  <thead>\n",
              "    <tr style=\"text-align: right;\">\n",
              "      <th></th>\n",
              "      <th>CustomerID</th>\n",
              "      <th>total_transactions</th>\n",
              "      <th>total_products</th>\n",
              "      <th>total_unique_products</th>\n",
              "      <th>total_sales</th>\n",
              "      <th>avg_product_value</th>\n",
              "      <th>avg_cart_value</th>\n",
              "      <th>min_cart_value</th>\n",
              "      <th>max_cart_value</th>\n",
              "    </tr>\n",
              "  </thead>\n",
              "  <tbody>\n",
              "    <tr>\n",
              "      <th>0</th>\n",
              "      <td>12347</td>\n",
              "      <td>7</td>\n",
              "      <td>42</td>\n",
              "      <td>23</td>\n",
              "      <td>1541.03</td>\n",
              "      <td>36.691190</td>\n",
              "      <td>220.147143</td>\n",
              "      <td>51.10</td>\n",
              "      <td>437.92</td>\n",
              "    </tr>\n",
              "    <tr>\n",
              "      <th>1</th>\n",
              "      <td>12348</td>\n",
              "      <td>4</td>\n",
              "      <td>30</td>\n",
              "      <td>21</td>\n",
              "      <td>1780.24</td>\n",
              "      <td>59.341333</td>\n",
              "      <td>445.060000</td>\n",
              "      <td>227.44</td>\n",
              "      <td>892.80</td>\n",
              "    </tr>\n",
              "    <tr>\n",
              "      <th>2</th>\n",
              "      <td>12349</td>\n",
              "      <td>1</td>\n",
              "      <td>18</td>\n",
              "      <td>18</td>\n",
              "      <td>799.80</td>\n",
              "      <td>44.433333</td>\n",
              "      <td>799.800000</td>\n",
              "      <td>799.80</td>\n",
              "      <td>799.80</td>\n",
              "    </tr>\n",
              "    <tr>\n",
              "      <th>3</th>\n",
              "      <td>12350</td>\n",
              "      <td>1</td>\n",
              "      <td>2</td>\n",
              "      <td>2</td>\n",
              "      <td>60.40</td>\n",
              "      <td>30.200000</td>\n",
              "      <td>60.400000</td>\n",
              "      <td>60.40</td>\n",
              "      <td>60.40</td>\n",
              "    </tr>\n",
              "    <tr>\n",
              "      <th>4</th>\n",
              "      <td>12352</td>\n",
              "      <td>7</td>\n",
              "      <td>19</td>\n",
              "      <td>10</td>\n",
              "      <td>1375.10</td>\n",
              "      <td>72.373684</td>\n",
              "      <td>196.442857</td>\n",
              "      <td>40.00</td>\n",
              "      <td>840.30</td>\n",
              "    </tr>\n",
              "  </tbody>\n",
              "</table>\n",
              "</div>"
            ],
            "text/plain": [
              "   CustomerID  total_transactions  total_products  total_unique_products  \\\n",
              "0       12347                   7              42                     23   \n",
              "1       12348                   4              30                     21   \n",
              "2       12349                   1              18                     18   \n",
              "3       12350                   1               2                      2   \n",
              "4       12352                   7              19                     10   \n",
              "\n",
              "   total_sales  avg_product_value  avg_cart_value  min_cart_value  \\\n",
              "0      1541.03          36.691190      220.147143           51.10   \n",
              "1      1780.24          59.341333      445.060000          227.44   \n",
              "2       799.80          44.433333      799.800000          799.80   \n",
              "3        60.40          30.200000       60.400000           60.40   \n",
              "4      1375.10          72.373684      196.442857           40.00   \n",
              "\n",
              "   max_cart_value  \n",
              "0          437.92  \n",
              "1          892.80  \n",
              "2          799.80  \n",
              "3           60.40  \n",
              "4          840.30  "
            ]
          },
          "execution_count": 39,
          "metadata": {},
          "output_type": "execute_result"
        }
      ],
      "source": [
        "data2 = pd.read_csv(\"analytical_base_table.csv\")\n",
        "data2.head()"
      ]
    },
    {
      "cell_type": "code",
      "execution_count": 40,
      "metadata": {},
      "outputs": [],
      "source": [
        "k_optimal = 4\n",
        "kmeans = KMeans(n_clusters=k_optimal, random_state=42)\n",
        "clusters2 = kmeans.fit_predict(data_pca) "
      ]
    },
    {
      "cell_type": "code",
      "execution_count": 41,
      "metadata": {},
      "outputs": [
        {
          "data": {
            "text/html": [
              "<div>\n",
              "<style scoped>\n",
              "    .dataframe tbody tr th:only-of-type {\n",
              "        vertical-align: middle;\n",
              "    }\n",
              "\n",
              "    .dataframe tbody tr th {\n",
              "        vertical-align: top;\n",
              "    }\n",
              "\n",
              "    .dataframe thead th {\n",
              "        text-align: right;\n",
              "    }\n",
              "</style>\n",
              "<table border=\"1\" class=\"dataframe\">\n",
              "  <thead>\n",
              "    <tr style=\"text-align: right;\">\n",
              "      <th></th>\n",
              "      <th>CustomerID</th>\n",
              "      <th>total_transactions</th>\n",
              "      <th>total_products</th>\n",
              "      <th>total_unique_products</th>\n",
              "      <th>total_sales</th>\n",
              "      <th>avg_product_value</th>\n",
              "      <th>avg_cart_value</th>\n",
              "      <th>min_cart_value</th>\n",
              "      <th>max_cart_value</th>\n",
              "      <th>Cluster_k4</th>\n",
              "    </tr>\n",
              "  </thead>\n",
              "  <tbody>\n",
              "    <tr>\n",
              "      <th>0</th>\n",
              "      <td>12347</td>\n",
              "      <td>7</td>\n",
              "      <td>42</td>\n",
              "      <td>23</td>\n",
              "      <td>1541.03</td>\n",
              "      <td>36.691190</td>\n",
              "      <td>220.147143</td>\n",
              "      <td>51.10</td>\n",
              "      <td>437.92</td>\n",
              "      <td>3</td>\n",
              "    </tr>\n",
              "    <tr>\n",
              "      <th>1</th>\n",
              "      <td>12348</td>\n",
              "      <td>4</td>\n",
              "      <td>30</td>\n",
              "      <td>21</td>\n",
              "      <td>1780.24</td>\n",
              "      <td>59.341333</td>\n",
              "      <td>445.060000</td>\n",
              "      <td>227.44</td>\n",
              "      <td>892.80</td>\n",
              "      <td>1</td>\n",
              "    </tr>\n",
              "    <tr>\n",
              "      <th>2</th>\n",
              "      <td>12349</td>\n",
              "      <td>1</td>\n",
              "      <td>18</td>\n",
              "      <td>18</td>\n",
              "      <td>799.80</td>\n",
              "      <td>44.433333</td>\n",
              "      <td>799.800000</td>\n",
              "      <td>799.80</td>\n",
              "      <td>799.80</td>\n",
              "      <td>1</td>\n",
              "    </tr>\n",
              "    <tr>\n",
              "      <th>3</th>\n",
              "      <td>12350</td>\n",
              "      <td>1</td>\n",
              "      <td>2</td>\n",
              "      <td>2</td>\n",
              "      <td>60.40</td>\n",
              "      <td>30.200000</td>\n",
              "      <td>60.400000</td>\n",
              "      <td>60.40</td>\n",
              "      <td>60.40</td>\n",
              "      <td>1</td>\n",
              "    </tr>\n",
              "    <tr>\n",
              "      <th>4</th>\n",
              "      <td>12352</td>\n",
              "      <td>7</td>\n",
              "      <td>19</td>\n",
              "      <td>10</td>\n",
              "      <td>1375.10</td>\n",
              "      <td>72.373684</td>\n",
              "      <td>196.442857</td>\n",
              "      <td>40.00</td>\n",
              "      <td>840.30</td>\n",
              "      <td>1</td>\n",
              "    </tr>\n",
              "  </tbody>\n",
              "</table>\n",
              "</div>"
            ],
            "text/plain": [
              "   CustomerID  total_transactions  total_products  total_unique_products  \\\n",
              "0       12347                   7              42                     23   \n",
              "1       12348                   4              30                     21   \n",
              "2       12349                   1              18                     18   \n",
              "3       12350                   1               2                      2   \n",
              "4       12352                   7              19                     10   \n",
              "\n",
              "   total_sales  avg_product_value  avg_cart_value  min_cart_value  \\\n",
              "0      1541.03          36.691190      220.147143           51.10   \n",
              "1      1780.24          59.341333      445.060000          227.44   \n",
              "2       799.80          44.433333      799.800000          799.80   \n",
              "3        60.40          30.200000       60.400000           60.40   \n",
              "4      1375.10          72.373684      196.442857           40.00   \n",
              "\n",
              "   max_cart_value  Cluster_k4  \n",
              "0          437.92           3  \n",
              "1          892.80           1  \n",
              "2          799.80           1  \n",
              "3           60.40           1  \n",
              "4          840.30           1  "
            ]
          },
          "execution_count": 41,
          "metadata": {},
          "output_type": "execute_result"
        }
      ],
      "source": [
        "# Tambahkan hasil cluster ke dataset asli\n",
        "data2['Cluster_k4'] = clusters2\n",
        "\n",
        "data2.head()"
      ]
    },
    {
      "cell_type": "code",
      "execution_count": 42,
      "metadata": {},
      "outputs": [
        {
          "name": "stdout",
          "output_type": "stream",
          "text": [
            "Cluster_k4\n",
            "1    311\n",
            "3     74\n",
            "2     13\n",
            "0     10\n",
            "Name: count, dtype: int64\n"
          ]
        }
      ],
      "source": [
        "# Jumlah pelanggan per cluster\n",
        "print(data2['Cluster_k4'].value_counts())"
      ]
    },
    {
      "cell_type": "code",
      "execution_count": 44,
      "metadata": {},
      "outputs": [
        {
          "name": "stdout",
          "output_type": "stream",
          "text": [
            "Silhouette Score: 0.5271994894120415\n"
          ]
        }
      ],
      "source": [
        "silhouette_avg = silhouette_score(data2.iloc[:, 1:], data2['Cluster_k4'])\n",
        "print(f\"Silhouette Score: {silhouette_avg}\")"
      ]
    },
    {
      "cell_type": "markdown",
      "metadata": {
        "id": "_GGs3amv66Uz"
      },
      "source": [
        "## **Random Forest**"
      ]
    },
    {
      "cell_type": "code",
      "execution_count": 45,
      "metadata": {},
      "outputs": [],
      "source": [
        "import pandas as pd\n",
        "from sklearn.model_selection import train_test_split\n",
        "from sklearn.ensemble import RandomForestClassifier\n",
        "from sklearn.metrics import accuracy_score, confusion_matrix, classification_report\n",
        "from imblearn.over_sampling import SMOTE\n",
        "from collections import Counter\n",
        "\n",
        "import seaborn as sns\n",
        "import matplotlib.pyplot as plt"
      ]
    },
    {
      "cell_type": "code",
      "execution_count": 46,
      "metadata": {},
      "outputs": [
        {
          "data": {
            "text/html": [
              "<div>\n",
              "<style scoped>\n",
              "    .dataframe tbody tr th:only-of-type {\n",
              "        vertical-align: middle;\n",
              "    }\n",
              "\n",
              "    .dataframe tbody tr th {\n",
              "        vertical-align: top;\n",
              "    }\n",
              "\n",
              "    .dataframe thead th {\n",
              "        text-align: right;\n",
              "    }\n",
              "</style>\n",
              "<table border=\"1\" class=\"dataframe\">\n",
              "  <thead>\n",
              "    <tr style=\"text-align: right;\">\n",
              "      <th></th>\n",
              "      <th>Unnamed: 0</th>\n",
              "      <th>CustomerID</th>\n",
              "      <th>total_transactions</th>\n",
              "      <th>total_products</th>\n",
              "      <th>total_unique_products</th>\n",
              "      <th>total_sales</th>\n",
              "      <th>avg_product_value</th>\n",
              "      <th>avg_cart_value</th>\n",
              "      <th>min_cart_value</th>\n",
              "      <th>max_cart_value</th>\n",
              "      <th>Cluster</th>\n",
              "      <th>Customer_Segment</th>\n",
              "    </tr>\n",
              "  </thead>\n",
              "  <tbody>\n",
              "    <tr>\n",
              "      <th>0</th>\n",
              "      <td>0</td>\n",
              "      <td>12347</td>\n",
              "      <td>7</td>\n",
              "      <td>42</td>\n",
              "      <td>23</td>\n",
              "      <td>1541.03</td>\n",
              "      <td>36.691190</td>\n",
              "      <td>220.147143</td>\n",
              "      <td>51.10</td>\n",
              "      <td>437.92</td>\n",
              "      <td>1</td>\n",
              "      <td>Occasional Shoppers</td>\n",
              "    </tr>\n",
              "    <tr>\n",
              "      <th>1</th>\n",
              "      <td>1</td>\n",
              "      <td>12348</td>\n",
              "      <td>4</td>\n",
              "      <td>30</td>\n",
              "      <td>21</td>\n",
              "      <td>1780.24</td>\n",
              "      <td>59.341333</td>\n",
              "      <td>445.060000</td>\n",
              "      <td>227.44</td>\n",
              "      <td>892.80</td>\n",
              "      <td>1</td>\n",
              "      <td>Occasional Shoppers</td>\n",
              "    </tr>\n",
              "    <tr>\n",
              "      <th>2</th>\n",
              "      <td>2</td>\n",
              "      <td>12349</td>\n",
              "      <td>1</td>\n",
              "      <td>18</td>\n",
              "      <td>18</td>\n",
              "      <td>799.80</td>\n",
              "      <td>44.433333</td>\n",
              "      <td>799.800000</td>\n",
              "      <td>799.80</td>\n",
              "      <td>799.80</td>\n",
              "      <td>1</td>\n",
              "      <td>Occasional Shoppers</td>\n",
              "    </tr>\n",
              "    <tr>\n",
              "      <th>3</th>\n",
              "      <td>3</td>\n",
              "      <td>12350</td>\n",
              "      <td>1</td>\n",
              "      <td>2</td>\n",
              "      <td>2</td>\n",
              "      <td>60.40</td>\n",
              "      <td>30.200000</td>\n",
              "      <td>60.400000</td>\n",
              "      <td>60.40</td>\n",
              "      <td>60.40</td>\n",
              "      <td>1</td>\n",
              "      <td>Occasional Shoppers</td>\n",
              "    </tr>\n",
              "    <tr>\n",
              "      <th>4</th>\n",
              "      <td>4</td>\n",
              "      <td>12352</td>\n",
              "      <td>7</td>\n",
              "      <td>19</td>\n",
              "      <td>10</td>\n",
              "      <td>1375.10</td>\n",
              "      <td>72.373684</td>\n",
              "      <td>196.442857</td>\n",
              "      <td>40.00</td>\n",
              "      <td>840.30</td>\n",
              "      <td>1</td>\n",
              "      <td>Occasional Shoppers</td>\n",
              "    </tr>\n",
              "  </tbody>\n",
              "</table>\n",
              "</div>"
            ],
            "text/plain": [
              "   Unnamed: 0  CustomerID  total_transactions  total_products  \\\n",
              "0           0       12347                   7              42   \n",
              "1           1       12348                   4              30   \n",
              "2           2       12349                   1              18   \n",
              "3           3       12350                   1               2   \n",
              "4           4       12352                   7              19   \n",
              "\n",
              "   total_unique_products  total_sales  avg_product_value  avg_cart_value  \\\n",
              "0                     23      1541.03          36.691190      220.147143   \n",
              "1                     21      1780.24          59.341333      445.060000   \n",
              "2                     18       799.80          44.433333      799.800000   \n",
              "3                      2        60.40          30.200000       60.400000   \n",
              "4                     10      1375.10          72.373684      196.442857   \n",
              "\n",
              "   min_cart_value  max_cart_value  Cluster     Customer_Segment  \n",
              "0           51.10          437.92        1  Occasional Shoppers  \n",
              "1          227.44          892.80        1  Occasional Shoppers  \n",
              "2          799.80          799.80        1  Occasional Shoppers  \n",
              "3           60.40           60.40        1  Occasional Shoppers  \n",
              "4           40.00          840.30        1  Occasional Shoppers  "
            ]
          },
          "execution_count": 46,
          "metadata": {},
          "output_type": "execute_result"
        }
      ],
      "source": [
        "df = pd.read_csv(\"hasil_clustering.csv\")\n",
        "\n",
        "df.head()"
      ]
    },
    {
      "cell_type": "markdown",
      "metadata": {},
      "source": [
        "Memilih Fitur"
      ]
    },
    {
      "cell_type": "code",
      "execution_count": 47,
      "metadata": {},
      "outputs": [],
      "source": [
        "X = df[['total_transactions', 'total_products', 'total_unique_products', 'total_sales',\n",
        "          'avg_product_value', 'avg_cart_value', 'min_cart_value', 'max_cart_value']]\n",
        "y = df['Cluster']"
      ]
    },
    {
      "cell_type": "markdown",
      "metadata": {},
      "source": [
        "SMOTE"
      ]
    },
    {
      "cell_type": "code",
      "execution_count": 48,
      "metadata": {},
      "outputs": [
        {
          "name": "stdout",
          "output_type": "stream",
          "text": [
            "Distribusi awal segmen pelanggan: Counter({1: 367, 0: 27, 2: 14})\n",
            "Distribusi setelah SMOTE: Counter({1: 367, 2: 367, 0: 367})\n"
          ]
        }
      ],
      "source": [
        "# Menggunakan SMOTE untuk balancing\n",
        "smote = SMOTE(random_state=42)\n",
        "X_resampled, y_resampled = smote.fit_resample(X, y)\n",
        "\n",
        "# Menampilkan distribusi awal segmen pelanggan\n",
        "print(\"Distribusi awal segmen pelanggan:\", Counter(y))\n",
        "\n",
        "# Cek distribusi setelah SMOTE\n",
        "print(\"Distribusi setelah SMOTE:\", Counter(y_resampled))\n"
      ]
    },
    {
      "cell_type": "code",
      "execution_count": 50,
      "metadata": {},
      "outputs": [],
      "source": [
        "# Membagi data menjadi Training dan Testing set\n",
        "X_train, X_test, y_train, y_test = train_test_split(X_resampled, y_resampled, test_size=0.2, random_state=42, stratify=y_resampled)"
      ]
    },
    {
      "cell_type": "code",
      "execution_count": 51,
      "metadata": {},
      "outputs": [
        {
          "name": "stdout",
          "output_type": "stream",
          "text": [
            "Cluster\n",
            "0    294\n",
            "1    293\n",
            "2    293\n",
            "Name: count, dtype: int64\n",
            "Cluster\n",
            "1    74\n",
            "2    74\n",
            "0    73\n",
            "Name: count, dtype: int64\n"
          ]
        }
      ],
      "source": [
        "print(y_train.value_counts())\n",
        "print(y_test.value_counts())"
      ]
    },
    {
      "cell_type": "code",
      "execution_count": 52,
      "metadata": {},
      "outputs": [],
      "source": [
        "# Inisialisasi Random Forest Classifier\n",
        "rf_model= RandomForestClassifier(n_estimators=100, random_state=42)\n",
        "\n",
        "# Melatih model\n",
        "rf_model.fit(X_train, y_train)\n",
        "\n",
        "# Prediksi pada data testing\n",
        "y_pred = rf_model.predict(X_test)"
      ]
    },
    {
      "cell_type": "code",
      "execution_count": 53,
      "metadata": {},
      "outputs": [
        {
          "data": {
            "image/png": "[encoded data removed]",
            "text/plain": [
              "<Figure size 2000x1000 with 1 Axes>"
            ]
          },
          "metadata": {},
          "output_type": "display_data"
        }
      ],
      "source": [
        "from sklearn import tree\n",
        "\n",
        "# Pilih salah satu pohon dari Random Forest\n",
        "dt_model = rf_model.estimators_[0]\n",
        "\n",
        "# Visualisasi Decision Tree\n",
        "plt.figure(figsize=(20, 10))\n",
        "tree.plot_tree(\n",
        "    dt_model,\n",
        "    feature_names=X.columns,\n",
        "    class_names=[\"Loyal High-Spender\", \"Occasional Shoppers\", \"Premium Customers\"],\n",
        "    filled=True,\n",
        "    rounded=True,\n",
        "    fontsize=10\n",
        ")\n",
        "plt.title(\"Decision Tree Visualization\")\n",
        "plt.show()"
      ]
    },
    {
      "cell_type": "markdown",
      "metadata": {},
      "source": [
        "Evaluasi"
      ]
    },
    {
      "cell_type": "code",
      "execution_count": 54,
      "metadata": {
        "id": "Qg7rY1g57cOA"
      },
      "outputs": [],
      "source": [
        "import statsmodels.api as sm\n",
        "import numpy as np\n",
        "from sklearn.metrics import accuracy_score, confusion_matrix, classification_report\n"
      ]
    },
    {
      "cell_type": "code",
      "execution_count": 55,
      "metadata": {
        "colab": {
          "base_uri": "https://localhost:8080/",
          "height": 80
        },
        "id": "IoQxsl_g9P6T",
        "outputId": "e3bedd80-d061-4d42-df69-e1a9d9ba20af"
      },
      "outputs": [
        {
          "name": "stdout",
          "output_type": "stream",
          "text": [
            "Accuracy:  0.995475113122172\n"
          ]
        }
      ],
      "source": [
        "print(\"Accuracy: \", accuracy_score(y_test, y_pred))"
      ]
    },
    {
      "cell_type": "code",
      "execution_count": 56,
      "metadata": {
        "colab": {
          "base_uri": "https://localhost:8080/"
        },
        "id": "A87-lwta9YK9",
        "outputId": "59bd86a0-3e74-42cd-ddeb-4c66eb561610"
      },
      "outputs": [
        {
          "name": "stdout",
          "output_type": "stream",
          "text": [
            "Confusion Matrix:\n",
            " [[73  0  0]\n",
            " [ 1 73  0]\n",
            " [ 0  0 74]]\n"
          ]
        }
      ],
      "source": [
        "print(\"Confusion Matrix:\\n\", confusion_matrix(y_test, y_pred))"
      ]
    },
    {
      "cell_type": "code",
      "execution_count": 57,
      "metadata": {
        "id": "Dw5xv0I_-MBI"
      },
      "outputs": [
        {
          "name": "stdout",
          "output_type": "stream",
          "text": [
            "Classification Report:\n",
            "               precision    recall  f1-score   support\n",
            "\n",
            "           0       0.99      1.00      0.99        73\n",
            "           1       1.00      0.99      0.99        74\n",
            "           2       1.00      1.00      1.00        74\n",
            "\n",
            "    accuracy                           1.00       221\n",
            "   macro avg       1.00      1.00      1.00       221\n",
            "weighted avg       1.00      1.00      1.00       221\n",
            "\n"
          ]
        }
      ],
      "source": [
        "print(\"Classification Report:\\n\", classification_report(y_test, y_pred))"
      ]
    },
    {
      "cell_type": "code",
      "execution_count": 58,
      "metadata": {},
      "outputs": [
        {
          "data": {
            "image/png": "[encoded data removed]",
            "text/plain": [
              "<Figure size 1000x600 with 1 Axes>"
            ]
          },
          "metadata": {},
          "output_type": "display_data"
        }
      ],
      "source": [
        "# Menampilkan fitur penting\n",
        "feature_importances = pd.DataFrame({\n",
        "    'Feature': X.columns,\n",
        "    'Importance': rf_model.feature_importances_\n",
        "}).sort_values(by='Importance', ascending=False)\n",
        "\n",
        "# Visualisasi fitur penting\n",
        "plt.figure(figsize=(10, 6))\n",
        "sns.barplot(x='Importance', y='Feature', data=feature_importances)\n",
        "plt.title('Fitur Penting dalam Segmentasi Pelanggan')\n",
        "plt.show()"
      ]
    },
    {
      "cell_type": "markdown",
      "metadata": {},
      "source": [
        "## **DASHBOARD**"
      ]
    },
    {
      "cell_type": "code",
      "execution_count": 59,
      "metadata": {},
      "outputs": [],
      "source": [
        "import pickle\n",
        "\n",
        "with open('rf_model.pkl','wb') as f:\n",
        "    pickle.dump(rf_model, f)"
      ]
    },
    {
      "cell_type": "code",
      "execution_count": null,
      "metadata": {},
      "outputs": [
        {
          "name": "stdout",
          "output_type": "stream",
          "text": [
            "Requirement already satisfied: streamlit in c:\\users\\62812\\appdata\\local\\programs\\python\\python313\\lib\\site-packages (1.40.2)\n",
            "Requirement already satisfied: altair<6,>=4.0 in c:\\users\\62812\\appdata\\local\\programs\\python\\python313\\lib\\site-packages (from streamlit) (5.5.0)\n",
            "Requirement already satisfied: blinker<2,>=1.0.0 in c:\\users\\62812\\appdata\\local\\programs\\python\\python313\\lib\\site-packages (from streamlit) (1.9.0)\n",
            "Requirement already satisfied: cachetools<6,>=4.0 in c:\\users\\62812\\appdata\\local\\programs\\python\\python313\\lib\\site-packages (from streamlit) (5.5.0)\n",
            "Requirement already satisfied: click<9,>=7.0 in c:\\users\\62812\\appdata\\local\\programs\\python\\python313\\lib\\site-packages (from streamlit) (8.1.7)\n",
            "Requirement already satisfied: numpy<3,>=1.23 in c:\\users\\62812\\appdata\\local\\programs\\python\\python313\\lib\\site-packages (from streamlit) (2.2.1)\n",
            "Requirement already satisfied: packaging<25,>=20 in c:\\users\\62812\\appdata\\roaming\\python\\python313\\site-packages (from streamlit) (24.1)\n",
            "Requirement already satisfied: pandas<3,>=1.4.0 in c:\\users\\62812\\appdata\\local\\programs\\python\\python313\\lib\\site-packages (from streamlit) (2.2.3)\n",
            "Requirement already satisfied: pillow<12,>=7.1.0 in c:\\users\\62812\\appdata\\local\\programs\\python\\python313\\lib\\site-packages (from streamlit) (10.4.0)\n",
            "Requirement already satisfied: protobuf<6,>=3.20 in c:\\users\\62812\\appdata\\local\\programs\\python\\python313\\lib\\site-packages (from streamlit) (5.29.0)\n",
            "Requirement already satisfied: pyarrow>=7.0 in c:\\users\\62812\\appdata\\local\\programs\\python\\python313\\lib\\site-packages (from streamlit) (18.1.0)\n",
            "Requirement already satisfied: requests<3,>=2.27 in c:\\users\\62812\\appdata\\local\\programs\\python\\python313\\lib\\site-packages (from streamlit) (2.32.3)\n",
            "Requirement already satisfied: rich<14,>=10.14.0 in c:\\users\\62812\\appdata\\local\\programs\\python\\python313\\lib\\site-packages (from streamlit) (13.9.4)\n",
            "Requirement already satisfied: tenacity<10,>=8.1.0 in c:\\users\\62812\\appdata\\local\\programs\\python\\python313\\lib\\site-packages (from streamlit) (9.0.0)\n",
            "Requirement already satisfied: toml<2,>=0.10.1 in c:\\users\\62812\\appdata\\local\\programs\\python\\python313\\lib\\site-packages (from streamlit) (0.10.2)\n",
            "Requirement already satisfied: typing-extensions<5,>=4.3.0 in c:\\users\\62812\\appdata\\local\\programs\\python\\python313\\lib\\site-packages (from streamlit) (4.12.2)\n",
            "Requirement already satisfied: watchdog<7,>=2.1.5 in c:\\users\\62812\\appdata\\local\\programs\\python\\python313\\lib\\site-packages (from streamlit) (6.0.0)\n",
            "Requirement already satisfied: gitpython!=3.1.19,<4,>=3.0.7 in c:\\users\\62812\\appdata\\local\\programs\\python\\python313\\lib\\site-packages (from streamlit) (3.1.43)\n",
            "Requirement already satisfied: pydeck<1,>=0.8.0b4 in c:\\users\\62812\\appdata\\local\\programs\\python\\python313\\lib\\site-packages (from streamlit) (0.9.1)\n",
            "Requirement already satisfied: tornado<7,>=6.0.3 in c:\\users\\62812\\appdata\\roaming\\python\\python313\\site-packages (from streamlit) (6.4.1)\n",
            "Requirement already satisfied: jinja2 in c:\\users\\62812\\appdata\\local\\programs\\python\\python313\\lib\\site-packages (from altair<6,>=4.0->streamlit) (3.1.4)\n",
            "Requirement already satisfied: jsonschema>=3.0 in c:\\users\\62812\\appdata\\local\\programs\\python\\python313\\lib\\site-packages (from altair<6,>=4.0->streamlit) (4.23.0)\n",
            "Requirement already satisfied: narwhals>=1.14.2 in c:\\users\\62812\\appdata\\local\\programs\\python\\python313\\lib\\site-packages (from altair<6,>=4.0->streamlit) (1.15.2)\n",
            "Requirement already satisfied: colorama in c:\\users\\62812\\appdata\\roaming\\python\\python313\\site-packages (from click<9,>=7.0->streamlit) (0.4.6)\n",
            "Requirement already satisfied: gitdb<5,>=4.0.1 in c:\\users\\62812\\appdata\\local\\programs\\python\\python313\\lib\\site-packages (from gitpython!=3.1.19,<4,>=3.0.7->streamlit) (4.0.11)\n",
            "Requirement already satisfied: python-dateutil>=2.8.2 in c:\\users\\62812\\appdata\\local\\programs\\python\\python313\\lib\\site-packages (from pandas<3,>=1.4.0->streamlit) (2.9.0.post0)\n",
            "Requirement already satisfied: pytz>=2020.1 in c:\\users\\62812\\appdata\\local\\programs\\python\\python313\\lib\\site-packages (from pandas<3,>=1.4.0->streamlit) (2024.2)\n",
            "Requirement already satisfied: tzdata>=2022.7 in c:\\users\\62812\\appdata\\local\\programs\\python\\python313\\lib\\site-packages (from pandas<3,>=1.4.0->streamlit) (2024.2)\n",
            "Requirement already satisfied: charset-normalizer<4,>=2 in c:\\users\\62812\\appdata\\local\\programs\\python\\python313\\lib\\site-packages (from requests<3,>=2.27->streamlit) (3.4.0)\n",
            "Requirement already satisfied: idna<4,>=2.5 in c:\\users\\62812\\appdata\\local\\programs\\python\\python313\\lib\\site-packages (from requests<3,>=2.27->streamlit) (3.10)\n",
            "Requirement already satisfied: urllib3<3,>=1.21.1 in c:\\users\\62812\\appdata\\local\\programs\\python\\python313\\lib\\site-packages (from requests<3,>=2.27->streamlit) (2.2.3)\n",
            "Requirement already satisfied: certifi>=2017.4.17 in c:\\users\\62812\\appdata\\local\\programs\\python\\python313\\lib\\site-packages (from requests<3,>=2.27->streamlit) (2024.8.30)\n",
            "Requirement already satisfied: markdown-it-py>=2.2.0 in c:\\users\\62812\\appdata\\local\\programs\\python\\python313\\lib\\site-packages (from rich<14,>=10.14.0->streamlit) (3.0.0)\n",
            "Requirement already satisfied: pygments<3.0.0,>=2.13.0 in c:\\users\\62812\\appdata\\roaming\\python\\python313\\site-packages (from rich<14,>=10.14.0->streamlit) (2.18.0)\n",
            "Requirement already satisfied: smmap<6,>=3.0.1 in c:\\users\\62812\\appdata\\local\\programs\\python\\python313\\lib\\site-packages (from gitdb<5,>=4.0.1->gitpython!=3.1.19,<4,>=3.0.7->streamlit) (5.0.1)\n",
            "Requirement already satisfied: MarkupSafe>=2.0 in c:\\users\\62812\\appdata\\local\\programs\\python\\python313\\lib\\site-packages (from jinja2->altair<6,>=4.0->streamlit) (3.0.2)\n",
            "Requirement already satisfied: attrs>=22.2.0 in c:\\users\\62812\\appdata\\local\\programs\\python\\python313\\lib\\site-packages (from jsonschema>=3.0->altair<6,>=4.0->streamlit) (24.2.0)\n",
            "Requirement already satisfied: jsonschema-specifications>=2023.03.6 in c:\\users\\62812\\appdata\\local\\programs\\python\\python313\\lib\\site-packages (from jsonschema>=3.0->altair<6,>=4.0->streamlit) (2024.10.1)\n",
            "Requirement already satisfied: referencing>=0.28.4 in c:\\users\\62812\\appdata\\local\\programs\\python\\python313\\lib\\site-packages (from jsonschema>=3.0->altair<6,>=4.0->streamlit) (0.35.1)\n",
            "Requirement already satisfied: rpds-py>=0.7.1 in c:\\users\\62812\\appdata\\local\\programs\\python\\python313\\lib\\site-packages (from jsonschema>=3.0->altair<6,>=4.0->streamlit) (0.22.1)\n",
            "Requirement already satisfied: mdurl~=0.1 in c:\\users\\62812\\appdata\\local\\programs\\python\\python313\\lib\\site-packages (from markdown-it-py>=2.2.0->rich<14,>=10.14.0->streamlit) (0.1.2)\n",
            "Requirement already satisfied: six>=1.5 in c:\\users\\62812\\appdata\\local\\programs\\python\\python313\\lib\\site-packages (from python-dateutil>=2.8.2->pandas<3,>=1.4.0->streamlit) (1.16.0)\n"
          ]
        },
        {
          "name": "stderr",
          "output_type": "stream",
          "text": [
            "WARNING: Ignoring invalid distribution ~atplotlib (C:\\Users\\62812\\AppData\\Local\\Programs\\Python\\Python313\\Lib\\site-packages)\n",
            "WARNING: Ignoring invalid distribution ~atplotlib (C:\\Users\\62812\\AppData\\Local\\Programs\\Python\\Python313\\Lib\\site-packages)\n",
            "WARNING: Ignoring invalid distribution ~atplotlib (C:\\Users\\62812\\AppData\\Local\\Programs\\Python\\Python313\\Lib\\site-packages)\n",
            "WARNING: Ignoring invalid distribution ~atplotlib (C:\\Users\\62812\\AppData\\Local\\Programs\\Python\\Python313\\Lib\\site-packages)\n",
            "\n",
            "[notice] A new release of pip is available: 24.2 -> 24.3.1\n",
            "[notice] To update, run: python.exe -m pip install --upgrade pip\n"
          ]
        }
      ],
      "source": [
        "!pip install streamlit"
      ]
    },
    {
      "cell_type": "code",
      "execution_count": null,
      "metadata": {},
      "outputs": [
        {
          "name": "stdout",
          "output_type": "stream",
          "text": [
            "Authtoken saved to configuration file: C:\\Users\\62812\\AppData\\Local/ngrok/ngrok.yml\n"
          ]
        }
      ],
      "source": [
        "!ngrok config add-authtoken 2rIgDcR5MaeHlGDvLGhlrNPAUmY_34ikYrfYomeAeex4rX5bk"
      ]
    },
    {
      "cell_type": "code",
      "execution_count": 7,
      "metadata": {},
      "outputs": [
        {
          "name": "stdout",
          "output_type": "stream",
          "text": [
            "Overwriting app.py\n"
          ]
        }
      ],
      "source": [
        "%%writefile app.py\n",
        "import streamlit as st\n",
        "import pandas as pd\n",
        "import plotly.express as px\n",
        "\n",
        "# RANDOM FOREST\n",
        "import pandas as pd\n",
        "from sklearn.model_selection import train_test_split\n",
        "from sklearn.ensemble import RandomForestClassifier\n",
        "from imblearn.over_sampling import SMOTE\n",
        "from collections import Counter\n",
        "\n",
        "import seaborn as sns\n",
        "import matplotlib.pyplot as plt\n",
        "\n",
        "df = pd.read_csv(\"hasil_clustering.csv\")\n",
        "\n",
        "X = df[['total_transactions', 'total_products', 'total_unique_products', 'total_sales',\n",
        "          'avg_product_value', 'avg_cart_value', 'min_cart_value', 'max_cart_value']]\n",
        "y = df['Cluster']\n",
        "\n",
        "# Menggunakan SMOTE untuk balancing\n",
        "smote = SMOTE(random_state=42)\n",
        "X_resampled, y_resampled = smote.fit_resample(X, y)\n",
        "\n",
        "# Membagi data menjadi Training dan Testing set\n",
        "X_train, X_test, y_train, y_test = train_test_split(X_resampled, y_resampled, test_size=0.2, random_state=42, stratify=y_resampled)\n",
        "\n",
        "# Inisialisasi Random Forest Classifier\n",
        "rf_model= RandomForestClassifier(n_estimators=100, random_state=42)\n",
        "\n",
        "# Melatih model\n",
        "rf_model.fit(X_train, y_train)\n",
        "\n",
        "# Prediksi pada data testing\n",
        "y_pred = rf_model.predict(X_test)\n",
        "\n",
        "# Page Config\n",
        "st.set_page_config(page_title=\"Data Mining\", layout=\"wide\")\n",
        "\n",
        "# Custom CSS for Dark Theme and Enhanced Styling\n",
        "st.markdown(\"\"\"\n",
        "<style>\n",
        "    /* Dark theme background and text color */\n",
        "    .stApp {\n",
        "        background-color: #1E2326;\n",
        "        color: #FFFFFF;\n",
        "    }\n",
        "\n",
        "    /* Change the color of input labels to white */\n",
        "    label {\n",
        "        color: #FFFFFF !important;\n",
        "    }\n",
        "    \n",
        "    /* Header styling */\n",
        "    .main-header {\n",
        "        padding: 2rem 1rem;\n",
        "        background-color: #2C3333;\n",
        "        border-radius: 15px;\n",
        "        margin-bottom: 30px;\n",
        "        text-align: center;\n",
        "    }\n",
        "    .header-title {\n",
        "        font-size: 32px;\n",
        "        font-weight: bold;\n",
        "        color: #FF69B4;\n",
        "        margin-bottom: 10px;\n",
        "    }\n",
        "    .header-subtitle {\n",
        "        font-size: 18px;\n",
        "        color: #B0B0B0;\n",
        "    }\n",
        "\n",
        "    /* Card styling for metrics */\n",
        "    .metric-card {\n",
        "        background-color: #2C3333;\n",
        "        padding: 20px;\n",
        "        border-radius: 15px;\n",
        "        text-align: center;\n",
        "        transition: transform 0.2s;\n",
        "    }\n",
        "    .metric-card:hover {\n",
        "        transform: scale(1.05);\n",
        "    }\n",
        "    .metric-value {\n",
        "        font-size: 28px;\n",
        "        font-weight: bold;\n",
        "        color: #FF69B4;\n",
        "    }\n",
        "    .metric-label {\n",
        "        color: #B0B0B0;\n",
        "        font-size: 16px;\n",
        "    }\n",
        "\n",
        "    /* Hide Streamlit branding */\n",
        "    #MainMenu {visibility: hidden;}\n",
        "    footer {visibility: hidden;}\n",
        "\n",
        "    /* Filter section */\n",
        "    .filters-section {\n",
        "        background-color: #2C3333;\n",
        "        padding: 15px;\n",
        "        border-radius: 15px;\n",
        "        margin-bottom: 30px;\n",
        "    }\n",
        "\n",
        "    /* Button styling */\n",
        "    .stButton>button {\n",
        "        background-color: #FF69B4;\n",
        "        color: white;\n",
        "        border-radius: 10px;\n",
        "        padding: 10px 24px;\n",
        "        font-size: 16px;\n",
        "    }\n",
        "    .stButton>button:hover {\n",
        "        background-color: #FF85C1;\n",
        "    }\n",
        "</style>\n",
        "\"\"\", unsafe_allow_html=True)\n",
        "\n",
        "# Load Data with Caching for Performance\n",
        "@st.cache_data\n",
        "def load_data():\n",
        "    transactions_path = \"cleaned_transactions.csv\"\n",
        "    clustering_path = \"hasil_clustering.csv\"\n",
        "\n",
        "    transactions_data = pd.read_csv(transactions_path, parse_dates=['InvoiceDate'])\n",
        "    clustering_data = pd.read_csv(clustering_path)\n",
        "\n",
        "    return transactions_data, clustering_data\n",
        "\n",
        "transactions_data, clustering_data = load_data()\n",
        "\n",
        "# Header Section with Enhanced Styling\n",
        "st.markdown(\"\"\"\n",
        "<div class=\"main-header\">\n",
        "    <div class=\"header-title\">SEGMENTASI DAN KLASIFIKASI PELANGGAN</div>\n",
        "    <div class=\"header-subtitle\">Kelompok 6 SI4609</div>\n",
        "</div>\n",
        "\"\"\", unsafe_allow_html=True)\n",
        "\n",
        "# Sidebar for Filters\n",
        "st.sidebar.header(\"Filters\")\n",
        "selected_country = st.sidebar.selectbox(\"Select Country\", options=[\"All\"] + sorted(transactions_data[\"Country\"].unique()))\n",
        "\n",
        "# Filter Transactions Data Based on User Selections\n",
        "filtered_data = transactions_data.copy()\n",
        "if selected_country != \"All\":\n",
        "    filtered_data = filtered_data[filtered_data[\"Country\"] == selected_country]\n",
        "\n",
        "# Key Metrics Displayed as Cards\n",
        "st.markdown(\"### Key Metrics\")\n",
        "metric1, metric2, metric3, metric4 = st.columns(4)\n",
        "\n",
        "with metric1:\n",
        "    unique_customers = filtered_data[\"CustomerID\"].nunique()\n",
        "    st.markdown(f\"\"\"\n",
        "    <div class=\"metric-card\">\n",
        "        <div class=\"metric-value\">{unique_customers:,}</div>\n",
        "        <div class=\"metric-label\">Unique Customers</div>\n",
        "    </div>\n",
        "    \"\"\", unsafe_allow_html=True)\n",
        "\n",
        "with metric2:\n",
        "    unique_invoices = filtered_data[\"InvoiceNo\"].nunique()\n",
        "    st.markdown(f\"\"\"\n",
        "    <div class=\"metric-card\">\n",
        "        <div class=\"metric-value\">{unique_invoices:,}</div>\n",
        "        <div class=\"metric-label\">Total Invoices</div>\n",
        "    </div>\n",
        "    \"\"\", unsafe_allow_html=True)\n",
        "\n",
        "with metric3:\n",
        "    unique_products = filtered_data[\"StockCode\"].nunique()\n",
        "    st.markdown(f\"\"\"\n",
        "    <div class=\"metric-card\">\n",
        "        <div class=\"metric-value\">{unique_products:,}</div>\n",
        "        <div class=\"metric-label\">Unique Products</div>\n",
        "    </div>\n",
        "    \"\"\", unsafe_allow_html=True)\n",
        "\n",
        "with metric4:\n",
        "    total_sales = filtered_data['Sales'].sum()\n",
        "    st.markdown(f\"\"\"\n",
        "    <div class=\"metric-card\">\n",
        "        <div class=\"metric-value\">${total_sales:,.2f}</div>\n",
        "        <div class=\"metric-label\">Total Sales</div>\n",
        "    </div>\n",
        "    \"\"\", unsafe_allow_html=True)\n",
        "\n",
        "# Charts Section with Enhanced Visuals and Interactivity\n",
        "st.markdown(\"### Data Visualizations\")\n",
        "chart1, chart2 = st.columns(2)\n",
        "\n",
        "with chart1:\n",
        "    st.markdown(\"#### Sales Over Time\")\n",
        "    sales_over_time = filtered_data.set_index('InvoiceDate').resample('M')['Sales'].sum().reset_index()\n",
        "    fig = px.line(sales_over_time, x='InvoiceDate', y='Sales', \n",
        "                  title='Monthly Sales',\n",
        "                  labels={'InvoiceDate': 'Date', 'Sales': 'Sales ($)'},\n",
        "                  template='plotly_dark')\n",
        "    fig.update_traces(line=dict(color='#FF69B4'))\n",
        "    fig.update_layout(showlegend=False)\n",
        "    st.plotly_chart(fig, use_container_width=True)\n",
        "\n",
        "with chart2:\n",
        "    st.markdown(\"#### Top 10 Products by Sales\")\n",
        "    top_products = filtered_data.groupby('StockCode')['Sales'].sum().nlargest(10).reset_index()\n",
        "    fig = px.bar(top_products, x='StockCode', y='Sales',\n",
        "                 title='Top 10 Products',\n",
        "                 labels={'StockCode': 'Product Code', 'Sales': 'Sales ($)'},\n",
        "                 template='plotly_dark',\n",
        "                 color='Sales',\n",
        "                 color_continuous_scale='RdBu')\n",
        "    st.plotly_chart(fig, use_container_width=True)\n",
        "\n",
        "# Customer Segmentation Visualizations\n",
        "st.markdown(\"### Customer Segmentation\")\n",
        "\n",
        "# Pie Chart of Customer Segments\n",
        "st.markdown(\"#### Distribution of Customer Segments\")\n",
        "segment_distribution = clustering_data['Customer_Segment'].value_counts().reset_index()\n",
        "segment_distribution.columns = ['Segment', 'Count']\n",
        "fig = px.pie(segment_distribution, values='Count', names='Segment', \n",
        "             title='Customer Segment Distribution', \n",
        "             template='plotly_dark',\n",
        "             color_discrete_sequence=px.colors.qualitative.Pastel)\n",
        "st.plotly_chart(fig, use_container_width=True)\n",
        "\n",
        "# Scatter Plot of Clustering Results\n",
        "st.markdown(\"#### Customer Clusters\")\n",
        "fig = px.scatter(clustering_data, x='avg_cart_value', y='total_sales', \n",
        "                 color='Cluster',\n",
        "                 size='total_transactions',\n",
        "                 hover_data=['CustomerID'],\n",
        "                 title='Customer Clusters Based on Avg Cart Value and Total Sales',\n",
        "                 labels={'avg_cart_value': 'Avg Cart Value', 'total_sales': 'Total Sales'},\n",
        "                 template='plotly_dark')\n",
        "st.plotly_chart(fig, use_container_width=True)\n",
        "\n",
        "# Predict Customer Cluster\n",
        "st.markdown(\"### Predict Customer Cluster\")\n",
        "st.markdown(\"Use the inputs below to predict the customer cluster.\")\n",
        "\n",
        "# Input fields\n",
        "col1, col2 = st.columns(2)\n",
        "with col1:\n",
        "    total_transactions = st.number_input(\"Total Transactions\", min_value=0, value=0)\n",
        "    total_products = st.number_input(\"Total Products\", min_value=0, value=0)\n",
        "    total_unique_products = st.number_input(\"Total Unique Products\", min_value=0, value=0)\n",
        "    min_cart_value = st.number_input(\"Minimum Cart Value\", min_value=0.0, value=0.0)\n",
        "    max_cart_value = st.number_input(\"Maximum Cart Value\", min_value=0.0, value=0.0)\n",
        "with col2:\n",
        "    total_sales = st.number_input(\"Total Sales\", min_value=0.0, value=0.0)\n",
        "    avg_product_value = st.number_input(\"Average Product Value\", min_value=0.0, value=0.0)\n",
        "    avg_cart_value = st.number_input(\"Average Cart Value\", min_value=0.0, value=0.0)\n",
        "\n",
        "# Predict Button\n",
        "if st.button(\"Predict Cluster\"):\n",
        "    # Create a DataFrame for prediction\n",
        "    input_data = pd.DataFrame({\n",
        "        'total_transactions': [total_transactions],\n",
        "        'total_products': [total_products],\n",
        "        'total_unique_products': [total_unique_products],\n",
        "        'total_sales': [total_sales],\n",
        "        'avg_product_value': [avg_product_value],\n",
        "        'avg_cart_value': [avg_cart_value],\n",
        "        'min_cart_value': [min_cart_value],\n",
        "        'max_cart_value': [max_cart_value] \n",
        "    })\n",
        "\n",
        "    # Perform prediction\n",
        "    try:\n",
        "        cluster_prediction = rf_model.predict(input_data)[0]\n",
        "        st.success(f\"The customer belongs to Cluster {cluster_prediction}.\")\n",
        "    except ValueError as e:\n",
        "        st.error(f\"Error: {e}\")\n",
        "\n",
        "# Data Table with Enhanced Styling and Pagination\n",
        "st.markdown(\"### Detailed Data Table\")\n",
        "st.dataframe(filtered_data.reset_index(drop=True).style.set_properties(**{\n",
        "    'background-color': '#2C3333',\n",
        "    'color': 'white',\n",
        "    'border-color': '#2C3333',\n",
        "    'font-size': '14px'\n",
        "}))\n",
        "\n",
        "# Footer Section\n",
        "st.markdown(\"\"\"\n",
        "<div style=\"text-align: center; color: #B0B0B0; padding: 20px;\">\n",
        "    &copy; 2024 Kelompok 6 / SI4609 | All Rights Reserved\n",
        "</div>\n",
        "\"\"\", unsafe_allow_html=True)\n"
      ]
    },
    {
      "cell_type": "code",
      "execution_count": null,
      "metadata": {},
      "outputs": [
        {
          "name": "stdout",
          "output_type": "stream",
          "text": [
            "Index(['Quantity', 'UnitPrice', 'InvoiceNo', 'StockCode', 'Description',\n",
            "       'InvoiceDate', 'CustomerID', 'Country', 'Sales'],\n",
            "      dtype='object')\n"
          ]
        }
      ],
      "source": [
        "df = pd.read_csv('cleaned_transactions.csv')\n",
        "print(df.columns)  # Menampilkan semua kolom yang ada di dataset\n"
      ]
    },
    {
      "cell_type": "code",
      "execution_count": 9,
      "metadata": {},
      "outputs": [],
      "source": [
        "from pyngrok import ngrok\n",
        "import threading\n",
        "import os"
      ]
    },
    {
      "cell_type": "code",
      "execution_count": 10,
      "metadata": {},
      "outputs": [
        {
          "name": "stdout",
          "output_type": "stream",
          "text": [
            "Streamlit app is live at NgrokTunnel: \"https://da28-182-253-194-51.ngrok-free.app\" -> \"http://localhost:8501\"\n"
          ]
        }
      ],
      "source": [
        "# Jalankan Streamlit di thread terpisah\n",
        "# Ekspos Streamlit ke internet menggunakan Ngrok\n",
        "from pyngrok import ngrok\n",
        "import threading\n",
        "import os\n",
        "\n",
        "def run_streamlit():\n",
        "    os.system(\"streamlit run app.py --server.port 8501\")\n",
        "\n",
        "thread = threading.Thread(target=run_streamlit)\n",
        "thread.start()\n",
        "\n",
        "public_url = ngrok.connect(addr=\"8501\")\n",
        "print(f\"Streamlit app is live at {public_url}\")"
      ]
    }
  ],
  "metadata": {
    "colab": {
      "provenance": [],
      "toc_visible": true
    },
    "kernelspec": {
      "display_name": "Python 3",
      "name": "python3"
    },
    "language_info": {
      "codemirror_mode": {
        "name": "ipython",
        "version": 3
      },
      "file_extension": ".py",
      "mimetype": "text/x-python",
      "name": "python",
      "nbconvert_exporter": "python",
      "pygments_lexer": "ipython3",
      "version": "3.13.0"
    }
  },
  "nbformat": 4,
  "nbformat_minor": 0
}
